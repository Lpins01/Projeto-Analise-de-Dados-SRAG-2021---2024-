{
 "cells": [
  {
   "cell_type": "markdown",
   "metadata": {},
   "source": [
    "# Objetivo\n",
    "\n",
    "O projeto tem como objetivo fazer uma análise nos dados disponibilizados pelo Ministério da Saúde a respeito dos casos de Síndrome Respiratória Aguda Grave (SARS) hospitalizados no período de 2021 até julho de 2024. Vale ressaltar que estão inclusos dados a respeito dos casos de COVID-19.\n",
    "\n",
    "Os conjuntos dos dados bem como um PDF contendo a descrição dos mesmos pode ser acessado através do link: https://dados.gov.br/dados/conjuntos-dados/srag-2021-e-2022"
   ]
  },
  {
   "cell_type": "markdown",
   "metadata": {},
   "source": [
    "# Imports"
   ]
  },
  {
   "cell_type": "code",
   "execution_count": 1,
   "metadata": {},
   "outputs": [
    {
     "name": "stderr",
     "output_type": "stream",
     "text": [
      "C:\\Users\\leona\\AppData\\Local\\Temp\\ipykernel_25424\\4080736814.py:1: DeprecationWarning: \n",
      "Pyarrow will become a required dependency of pandas in the next major release of pandas (pandas 3.0),\n",
      "(to allow more performant data types, such as the Arrow string type, and better interoperability with other libraries)\n",
      "but was not found to be installed on your system.\n",
      "If this would cause problems for you,\n",
      "please provide us feedback at https://github.com/pandas-dev/pandas/issues/54466\n",
      "        \n",
      "  import pandas as pd\n"
     ]
    }
   ],
   "source": [
    "import pandas as pd"
   ]
  },
  {
   "cell_type": "markdown",
   "metadata": {},
   "source": [
    "# Inicializando Datasets"
   ]
  },
  {
   "cell_type": "code",
   "execution_count": 46,
   "metadata": {},
   "outputs": [
    {
     "name": "stderr",
     "output_type": "stream",
     "text": [
      "C:\\Users\\leona\\AppData\\Local\\Temp\\ipykernel_25424\\3209780142.py:1: DtypeWarning: Columns (15,59,61,62,63,91,93,105,107,114,116,117,118,122,143) have mixed types. Specify dtype option on import or set low_memory=False.\n",
      "  df_2021 = pd.read_csv(\"SRAG 2021 - 01-05.csv\", delimiter = ';')\n",
      "C:\\Users\\leona\\AppData\\Local\\Temp\\ipykernel_25424\\3209780142.py:2: DtypeWarning: Columns (15,53,59,61,62,63,91,93,120,122,143,171) have mixed types. Specify dtype option on import or set low_memory=False.\n",
      "  df_2022 = pd.read_csv(\"SRAG 2022 - 03-04.csv\", delimiter = ';')\n",
      "C:\\Users\\leona\\AppData\\Local\\Temp\\ipykernel_25424\\3209780142.py:3: DtypeWarning: Columns (15,18,20,23,53,61,62,63,72,74,79,91,93,109,120,130,175,178) have mixed types. Specify dtype option on import or set low_memory=False.\n",
      "  df_2023 = pd.read_csv(\"SRAG 2023 - 05-08.csv\", delimiter = ';')\n",
      "C:\\Users\\leona\\AppData\\Local\\Temp\\ipykernel_25424\\3209780142.py:4: DtypeWarning: Columns (15,53,93,120,171,175,178) have mixed types. Specify dtype option on import or set low_memory=False.\n",
      "  df_2024 = pd.read_csv(\"SRAG 2024 - 05-08.csv\", delimiter = ';')\n"
     ]
    }
   ],
   "source": [
    "df_2021 = pd.read_csv(\"SRAG 2021 - 01-05.csv\", delimiter = ';')\n",
    "df_2022 = pd.read_csv(\"SRAG 2022 - 03-04.csv\", delimiter = ';')\n",
    "df_2023 = pd.read_csv(\"SRAG 2023 - 05-08.csv\", delimiter = ';')\n",
    "df_2024 = pd.read_csv(\"SRAG 2024 - 05-08.csv\", delimiter = ';')"
   ]
  },
  {
   "cell_type": "markdown",
   "metadata": {},
   "source": [
    "# Tratando Dados"
   ]
  },
  {
   "cell_type": "code",
   "execution_count": 48,
   "metadata": {},
   "outputs": [
    {
     "name": "stdout",
     "output_type": "stream",
     "text": [
      "Shape dataset 2021: (1731290, 166)\n",
      "Shape dataset 2022: (557476, 173)\n",
      "Shape dataset 2023: (279192, 190)\n",
      "Shape dataset 2024: (161525, 191)\n"
     ]
    }
   ],
   "source": [
    "print(f\"Shape dataset 2021: {df_2021.shape}\")\n",
    "print(f\"Shape dataset 2022: {df_2022.shape}\")\n",
    "print(f\"Shape dataset 2023: {df_2023.shape}\")\n",
    "print(f\"Shape dataset 2024: {df_2024.shape}\")"
   ]
  },
  {
   "cell_type": "code",
   "execution_count": 49,
   "metadata": {},
   "outputs": [],
   "source": [
    "def drop_cols(dataframe):\n",
    "    colunas_df = dataframe.columns\n",
    "    colunas_drop = [\"DT_NOTIFIC\", \"DT_SIN_PRI\", \"TEM_CPF\", \"NU_CPF\", \"ESTRANG\", \"NU_CNS\", \"NM_PACIENT\", \"DT_NASC\", \"CS_ETINIA\", \"TP_POV_CT\", \"PAC_COCBO\", \"PAC_DSCBO\", \n",
    "                    \"NM_MAE_PAC\", \"NU_CEP\", \"NM_BAIRRO\", \"NM_LOGRADO\", \"NU_NUMERO\", \"NM_COMPLEM\", \"NU_DDD_TEL\", \"NU_TELEFON\", \"OBES_IMC\", \"FNT_IN_COV\", \"DT_UT_DOSE\", \n",
    "                    \"DT_VAC_MAE\", \"OUT_ANTIV\", \"DT_ANTIVIR\", \"OUT_TRAT\", \"DT_TRT_COV\", \"DT_INTERNA\", \"RAIOX_OUT\", \"DT_RAIOX\", \"TOMO_OUT\", \"DT_TOMO\", \"DT_COLETA\", \"OUT_AMOST\", \n",
    "                    \"REQUI_GAL\", \"DT_RES_AN\", \"CO_LAB_AN\", \"DT_PCR\", \"FLUASU_OUT\", \"FLUBLI_OUT\", \"DS_PCR_OUT\", \"DT_CO_SOR\", \"OUT_SOR\", \"SOR_OUT\", \"DT_RES\", \"CLASSI_OUT\", \n",
    "                    \"DT_EVOLUCA\", \"DT_ENCERRA\", \"NU_DO\", \"OBSERVA\", \"NOME_PROF\", \"REG_PROF\", \"DT_DIGITA\"]\n",
    "    \n",
    "    drops = [] \n",
    "    # Algumas das colunas que queremos remover podemi não estar no dataframe, então criamos um outro array para armazer as que estão em ambas as listas (colunas_df e colunas_drop) \n",
    "    # para removê-las de uma única vez\n",
    "    \n",
    "    for coluna in colunas_df:\n",
    "        if coluna in colunas_drop:\n",
    "            drops.append(coluna)\n",
    "\n",
    "    dataframe = dataframe.drop(drops, axis = 1)\n",
    "\n",
    "    return dataframe"
   ]
  },
  {
   "cell_type": "code",
   "execution_count": 50,
   "metadata": {},
   "outputs": [],
   "source": [
    "df_2021_t = drop_cols(df_2021)\n",
    "df_2022_t = drop_cols(df_2022)\n",
    "df_2023_t = drop_cols(df_2023)\n",
    "df_2024_t = drop_cols(df_2024)"
   ]
  },
  {
   "cell_type": "code",
   "execution_count": 51,
   "metadata": {},
   "outputs": [],
   "source": [
    "del df_2021\n",
    "del df_2022\n",
    "del df_2023\n",
    "del df_2024"
   ]
  },
  {
   "cell_type": "code",
   "execution_count": 52,
   "metadata": {},
   "outputs": [
    {
     "name": "stdout",
     "output_type": "stream",
     "text": [
      "Shape dataset 2021 tratado: (1731290, 134)\n",
      "Shape dataset 2022 tratado: (557476, 139)\n",
      "Shape dataset 2023 tratado: (279192, 156)\n",
      "Shape dataset 2024 tratado: (161525, 157)\n"
     ]
    }
   ],
   "source": [
    "print(f\"Shape dataset 2021 tratado: {df_2021_t.shape}\")\n",
    "print(f\"Shape dataset 2022 tratado: {df_2022_t.shape}\")\n",
    "print(f\"Shape dataset 2023 tratado: {df_2023_t.shape}\")\n",
    "print(f\"Shape dataset 2024 tratado: {df_2024_t.shape}\")"
   ]
  },
  {
   "cell_type": "markdown",
   "metadata": {},
   "source": [
    "Os dataframes seguem sem ter o mesmo número de colunas pelo fato de que algumas colunas são a respeito de informações que não existiam naquele ano, por exemplo, o dataframe de 2022 passa a ter como a data que o paciente recebeu a 2a dose de reforço contra a COVID-19.\n",
    "\n",
    "Dataframes de anos posteriores contém todas as colunas presentes em dataframes de anos anteriores."
   ]
  }
 ],
 "metadata": {
  "kernelspec": {
   "display_name": "Python 3",
   "language": "python",
   "name": "python3"
  },
  "language_info": {
   "codemirror_mode": {
    "name": "ipython",
    "version": 3
   },
   "file_extension": ".py",
   "mimetype": "text/x-python",
   "name": "python",
   "nbconvert_exporter": "python",
   "pygments_lexer": "ipython3",
   "version": "3.12.2"
  }
 },
 "nbformat": 4,
 "nbformat_minor": 2
}
