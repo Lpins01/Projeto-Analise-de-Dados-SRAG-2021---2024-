{
 "cells": [
  {
   "cell_type": "markdown",
   "metadata": {},
   "source": [
    "# Objetivo\n",
    "\n",
    "O projeto tem como objetivo fazer uma análise nos dados disponibilizados pelo Ministério da Saúde a respeito dos casos de Síndrome Respiratória Aguda Grave (SARS) hospitalizados no período de 2021 até julho de 2024. Vale ressaltar que estão inclusos dados a respeito dos casos de COVID-19.\n",
    "\n",
    "Os conjuntos dos dados bem como um PDF contendo a descrição dos mesmos pode ser acessado através do link: https://dados.gov.br/dados/conjuntos-dados/srag-2021-e-2022"
   ]
  },
  {
   "cell_type": "markdown",
   "metadata": {},
   "source": [
    "# Imports"
   ]
  },
  {
   "cell_type": "code",
   "execution_count": 2,
   "metadata": {},
   "outputs": [
    {
     "name": "stderr",
     "output_type": "stream",
     "text": [
      "C:\\Users\\leona\\AppData\\Local\\Temp\\ipykernel_18672\\1492400551.py:1: DeprecationWarning: \n",
      "Pyarrow will become a required dependency of pandas in the next major release of pandas (pandas 3.0),\n",
      "(to allow more performant data types, such as the Arrow string type, and better interoperability with other libraries)\n",
      "but was not found to be installed on your system.\n",
      "If this would cause problems for you,\n",
      "please provide us feedback at https://github.com/pandas-dev/pandas/issues/54466\n",
      "        \n",
      "  import pandas as pd\n"
     ]
    }
   ],
   "source": [
    "import pandas as pd\n",
    "import matplotlib.pyplot as plt"
   ]
  },
  {
   "cell_type": "markdown",
   "metadata": {},
   "source": [
    "# Inicializando Datasets"
   ]
  },
  {
   "cell_type": "code",
   "execution_count": 3,
   "metadata": {},
   "outputs": [
    {
     "name": "stderr",
     "output_type": "stream",
     "text": [
      "C:\\Users\\leona\\AppData\\Local\\Temp\\ipykernel_18672\\3209780142.py:1: DtypeWarning: Columns (15,59,61,62,63,91,93,105,107,114,116,117,118,122,143) have mixed types. Specify dtype option on import or set low_memory=False.\n",
      "  df_2021 = pd.read_csv(\"SRAG 2021 - 01-05.csv\", delimiter = ';')\n",
      "C:\\Users\\leona\\AppData\\Local\\Temp\\ipykernel_18672\\3209780142.py:2: DtypeWarning: Columns (15,53,59,61,62,63,91,93,120,122,143,171) have mixed types. Specify dtype option on import or set low_memory=False.\n",
      "  df_2022 = pd.read_csv(\"SRAG 2022 - 03-04.csv\", delimiter = ';')\n",
      "C:\\Users\\leona\\AppData\\Local\\Temp\\ipykernel_18672\\3209780142.py:3: DtypeWarning: Columns (15,18,20,23,53,61,62,63,72,74,79,91,93,109,120,130,175,178) have mixed types. Specify dtype option on import or set low_memory=False.\n",
      "  df_2023 = pd.read_csv(\"SRAG 2023 - 05-08.csv\", delimiter = ';')\n",
      "C:\\Users\\leona\\AppData\\Local\\Temp\\ipykernel_18672\\3209780142.py:4: DtypeWarning: Columns (15,53,93,120,171,175,178) have mixed types. Specify dtype option on import or set low_memory=False.\n",
      "  df_2024 = pd.read_csv(\"SRAG 2024 - 05-08.csv\", delimiter = ';')\n"
     ]
    }
   ],
   "source": [
    "df_2021 = pd.read_csv(\"SRAG 2021 - 01-05.csv\", delimiter = ';')\n",
    "df_2022 = pd.read_csv(\"SRAG 2022 - 03-04.csv\", delimiter = ';')\n",
    "df_2023 = pd.read_csv(\"SRAG 2023 - 05-08.csv\", delimiter = ';')\n",
    "df_2024 = pd.read_csv(\"SRAG 2024 - 05-08.csv\", delimiter = ';')"
   ]
  },
  {
   "cell_type": "markdown",
   "metadata": {},
   "source": [
    "# Tratando Dados"
   ]
  },
  {
   "cell_type": "code",
   "execution_count": 4,
   "metadata": {},
   "outputs": [
    {
     "name": "stdout",
     "output_type": "stream",
     "text": [
      "Shape dataset 2021: (1731290, 166)\n",
      "Shape dataset 2022: (557476, 173)\n",
      "Shape dataset 2023: (279192, 190)\n",
      "Shape dataset 2024: (161525, 191)\n"
     ]
    }
   ],
   "source": [
    "print(f\"Shape dataset 2021: {df_2021.shape}\")\n",
    "print(f\"Shape dataset 2022: {df_2022.shape}\")\n",
    "print(f\"Shape dataset 2023: {df_2023.shape}\")\n",
    "print(f\"Shape dataset 2024: {df_2024.shape}\")"
   ]
  },
  {
   "cell_type": "code",
   "execution_count": 5,
   "metadata": {},
   "outputs": [],
   "source": [
    "def drop_cols(dataframe):\n",
    "    colunas_df = dataframe.columns\n",
    "    colunas_drop = [\"TEM_CPF\", \"NU_CPF\", \"ESTRANG\", \"NU_CNS\", \"NM_PACIENT\", \"DT_NASC\", \"CS_ETINIA\", \"TP_POV_CT\", \"PAC_COCBO\", \"PAC_DSCBO\", \"NM_MAE_PAC\", \"NU_CEP\", \"NM_BAIRRO\", \n",
    "                    \"NM_LOGRADO\", \"NU_NUMERO\", \"NM_COMPLEM\", \"NU_DDD_TEL\", \"NU_TELEFON\", \"OBES_IMC\", \"FNT_IN_COV\", \"DT_UT_DOSE\", \"DT_VAC_MAE\", \"OUT_ANTIV\", \"DT_ANTIVIR\", \n",
    "                    \"OUT_TRAT\", \"DT_TRT_COV\", \"DT_INTERNA\", \"RAIOX_OUT\", \"DT_RAIOX\", \"TOMO_OUT\", \"DT_TOMO\", \"DT_COLETA\", \"OUT_AMOST\", \"REQUI_GAL\", \"DT_RES_AN\", \"CO_LAB_AN\", \n",
    "                    \"DT_PCR\", \"FLUASU_OUT\", \"FLUBLI_OUT\", \"DS_PCR_OUT\", \"DT_CO_SOR\", \"OUT_SOR\", \"SOR_OUT\", \"DT_RES\", \"CLASSI_OUT\", \"DT_ENCERRA\", \"NU_DO\", \"OBSERVA\", \"NOME_PROF\", \n",
    "                    \"REG_PROF\", \"DT_DIGITA\", \"COD_IDADE\", \"CO_REGIONA\", \"CO_MUN_NOT\", \"CO_UNI_NOT\", \"CO_PAIS\", \"CO_RG_RESI\", \"CO_MUN_RES\", \"CO_RG_INTE\", \"CO_MU_INTE\", \"LAB_PR_COV\", \n",
    "                    \"DT_RT_VGM\", \"DT_VGM\", \"CO_PS_VGM\", \"LO_PS_VGM\", \"SURTO_SG\", \"DT_NOTIFIC\", \"DT_SIN_PRI\", \"DT_EVOLUCA\"]\n",
    "    \n",
    "    drops = [] \n",
    "    # Algumas das colunas que queremos remover podem não estar no dataframe, então criamos um outro array para armazer as que estão em ambas as listas (colunas_df e colunas_drop) \n",
    "    # para removê-las de uma única vez\n",
    "    \n",
    "    for coluna in colunas_df:\n",
    "        if coluna in colunas_drop:\n",
    "            drops.append(coluna)\n",
    "\n",
    "    dataframe = dataframe.drop(drops, axis = 1)\n",
    "\n",
    "    return dataframe"
   ]
  },
  {
   "cell_type": "code",
   "execution_count": 6,
   "metadata": {},
   "outputs": [],
   "source": [
    "df_2021_t = drop_cols(df_2021)\n",
    "df_2022_t = drop_cols(df_2022)\n",
    "df_2023_t = drop_cols(df_2023)\n",
    "df_2024_t = drop_cols(df_2024)"
   ]
  },
  {
   "cell_type": "code",
   "execution_count": 7,
   "metadata": {},
   "outputs": [],
   "source": [
    "del df_2021\n",
    "del df_2022\n",
    "del df_2023\n",
    "del df_2024"
   ]
  },
  {
   "cell_type": "code",
   "execution_count": 8,
   "metadata": {},
   "outputs": [
    {
     "name": "stdout",
     "output_type": "stream",
     "text": [
      "Shape dataset 2021 tratado: (1731290, 122)\n",
      "Shape dataset 2022 tratado: (557476, 127)\n",
      "Shape dataset 2023 tratado: (279192, 144)\n",
      "Shape dataset 2024 tratado: (161525, 145)\n"
     ]
    }
   ],
   "source": [
    "print(f\"Shape dataset 2021 tratado: {df_2021_t.shape}\")\n",
    "print(f\"Shape dataset 2022 tratado: {df_2022_t.shape}\")\n",
    "print(f\"Shape dataset 2023 tratado: {df_2023_t.shape}\")\n",
    "print(f\"Shape dataset 2024 tratado: {df_2024_t.shape}\")"
   ]
  },
  {
   "cell_type": "code",
   "execution_count": 9,
   "metadata": {},
   "outputs": [],
   "source": [
    "df_2021_t = df_2021_t.drop_duplicates()\n",
    "df_2022_t = df_2022_t.drop_duplicates()\n",
    "df_2023_t = df_2023_t.drop_duplicates()\n",
    "df_2024_t = df_2024_t.drop_duplicates()"
   ]
  },
  {
   "cell_type": "code",
   "execution_count": 10,
   "metadata": {},
   "outputs": [
    {
     "name": "stdout",
     "output_type": "stream",
     "text": [
      "Shape dataset 2021 tratado: (1731231, 122)\n",
      "Shape dataset 2022 tratado: (557428, 127)\n",
      "Shape dataset 2023 tratado: (278911, 144)\n",
      "Shape dataset 2024 tratado: (161258, 145)\n"
     ]
    }
   ],
   "source": [
    "print(f\"Shape dataset 2021 tratado: {df_2021_t.shape}\")\n",
    "print(f\"Shape dataset 2022 tratado: {df_2022_t.shape}\")\n",
    "print(f\"Shape dataset 2023 tratado: {df_2023_t.shape}\")\n",
    "print(f\"Shape dataset 2024 tratado: {df_2024_t.shape}\")"
   ]
  },
  {
   "cell_type": "markdown",
   "metadata": {},
   "source": [
    "Os dataframes seguem sem ter o mesmo número de colunas pelo fato de que algumas colunas são a respeito de informações que não existiam naquele ano, por exemplo, o dataframe de 2022 passa a ter como a data que o paciente recebeu a 2a dose de reforço contra a COVID-19.\n",
    "\n",
    "Dataframes de anos posteriores contém todas as colunas presentes em dataframes de anos anteriores."
   ]
  },
  {
   "cell_type": "markdown",
   "metadata": {},
   "source": [
    "# Explorando datasets separadamente\n",
    "\n",
    "Nessa etapa irei analisar se existe alguma coluna que não estava marcada no dicionário de dados ou se as colunas estão com outro nome, avaliando novamente se é possível limpar mais dados.\n",
    "\n",
    "Passarei as colunas do dataset registradas pelos códigos a seguir para o Excel para continuar com a organização dos dados, usando procv é possível ver as colunas que mantiveram o mesmo nome, as que retornarem #N/D não foram encontradas na tabela original (referente ao dicionário de dados) sendo assim avaliadas individualmente nessa etapa.\n",
    "\n",
    "Esse passo serve para novamente me ajudar a analisar as colunas e caso ache necessário remover mais algumas. Como o dataset de um ano posterior tem todas as colunas dos anos anteriores, as colunas que eu julgar que não fazem sentido para as análises serão adicionadas diretamente na função feita anteriormente que remove diversas colunas de uma única vez."
   ]
  },
  {
   "cell_type": "markdown",
   "metadata": {},
   "source": [
    "## Dados 2021"
   ]
  },
  {
   "cell_type": "code",
   "execution_count": 11,
   "metadata": {},
   "outputs": [
    {
     "name": "stdout",
     "output_type": "stream",
     "text": [
      "DT_NOTIFIC\n",
      "SEM_NOT\n",
      "DT_SIN_PRI\n",
      "SEM_PRI\n",
      "SG_UF_NOT\n",
      "ID_REGIONA\n",
      "ID_MUNICIP\n",
      "ID_UNIDADE\n",
      "CS_SEXO\n",
      "NU_IDADE_N\n",
      "TP_IDADE\n",
      "CS_GESTANT\n",
      "CS_RACA\n",
      "CS_ESCOL_N\n",
      "ID_PAIS\n",
      "SG_UF\n",
      "ID_RG_RESI\n",
      "ID_MN_RESI\n",
      "CS_ZONA\n",
      "NOSOCOMIAL\n",
      "AVE_SUINO\n",
      "FEBRE\n",
      "TOSSE\n",
      "GARGANTA\n",
      "DISPNEIA\n",
      "DESC_RESP\n",
      "SATURACAO\n",
      "DIARREIA\n",
      "VOMITO\n",
      "OUTRO_SIN\n",
      "OUTRO_DES\n",
      "PUERPERA\n",
      "FATOR_RISC\n",
      "CARDIOPATI\n",
      "HEMATOLOGI\n",
      "SIND_DOWN\n",
      "HEPATICA\n",
      "ASMA\n",
      "DIABETES\n",
      "NEUROLOGIC\n",
      "PNEUMOPATI\n",
      "IMUNODEPRE\n",
      "RENAL\n",
      "OBESIDADE\n",
      "OUT_MORBI\n",
      "MORB_DESC\n",
      "VACINA\n",
      "MAE_VAC\n",
      "M_AMAMENTA\n",
      "DT_DOSEUNI\n",
      "DT_1_DOSE\n",
      "DT_2_DOSE\n",
      "ANTIVIRAL\n",
      "TP_ANTIVIR\n",
      "HOSPITAL\n",
      "SG_UF_INTE\n",
      "ID_RG_INTE\n",
      "ID_MN_INTE\n",
      "UTI\n",
      "DT_ENTUTI\n",
      "DT_SAIDUTI\n",
      "SUPORT_VEN\n",
      "RAIOX_RES\n",
      "AMOSTRA\n",
      "TP_AMOSTRA\n",
      "PCR_RESUL\n",
      "POS_PCRFLU\n",
      "TP_FLU_PCR\n",
      "PCR_FLUASU\n",
      "PCR_FLUBLI\n",
      "POS_PCROUT\n",
      "PCR_VSR\n",
      "PCR_PARA1\n",
      "PCR_PARA2\n",
      "PCR_PARA3\n",
      "PCR_PARA4\n",
      "PCR_ADENO\n",
      "PCR_METAP\n",
      "PCR_BOCA\n",
      "PCR_RINO\n",
      "PCR_OUTRO\n",
      "CLASSI_FIN\n",
      "CRITERIO\n",
      "EVOLUCAO\n",
      "DT_EVOLUCA\n",
      "HISTO_VGM\n",
      "PAIS_VGM\n",
      "PCR_SARS2\n",
      "OUT_ANIM\n",
      "DOR_ABD\n",
      "FADIGA\n",
      "PERD_OLFT\n",
      "PERD_PALA\n",
      "TOMO_RES\n",
      "TP_TES_AN\n",
      "RES_AN\n",
      "POS_AN_FLU\n",
      "TP_FLU_AN\n",
      "POS_AN_OUT\n",
      "AN_SARS2\n",
      "AN_VSR\n",
      "AN_PARA1\n",
      "AN_PARA2\n",
      "AN_PARA3\n",
      "AN_ADENO\n",
      "AN_OUTRO\n",
      "DS_AN_OUT\n",
      "TP_AM_SOR\n",
      "TP_SOR\n",
      "RES_IGG\n",
      "RES_IGM\n",
      "RES_IGA\n",
      "VACINA_COV\n",
      "DOSE_1_COV\n",
      "DOSE_2_COV\n",
      "DOSE_REF\n",
      "FAB_COV_1\n",
      "FAB_COV_2\n",
      "FAB_COVREF\n",
      "LOTE_REF\n",
      "LOTE_1_COV\n",
      "LOTE_2_COV\n"
     ]
    }
   ],
   "source": [
    "for coluna in df_2021_t.columns:\n",
    "    print(coluna)"
   ]
  },
  {
   "cell_type": "code",
   "execution_count": 12,
   "metadata": {},
   "outputs": [
    {
     "name": "stderr",
     "output_type": "stream",
     "text": [
      "C:\\Users\\leona\\AppData\\Local\\Temp\\ipykernel_18672\\512779062.py:1: FutureWarning: Setting an item of incompatible dtype is deprecated and will raise an error in a future version of pandas. Value 'Não preenchido' has dtype incompatible with float64, please explicitly cast to a compatible dtype first.\n",
      "  df_2021_t.fillna(\"Não preenchido\", inplace=True)\n"
     ]
    }
   ],
   "source": [
    "df_2021_t.fillna(\"Não preenchido\", inplace=True)"
   ]
  },
  {
   "cell_type": "code",
   "execution_count": 13,
   "metadata": {},
   "outputs": [
    {
     "data": {
      "text/html": [
       "<div>\n",
       "<style scoped>\n",
       "    .dataframe tbody tr th:only-of-type {\n",
       "        vertical-align: middle;\n",
       "    }\n",
       "\n",
       "    .dataframe tbody tr th {\n",
       "        vertical-align: top;\n",
       "    }\n",
       "\n",
       "    .dataframe thead th {\n",
       "        text-align: right;\n",
       "    }\n",
       "</style>\n",
       "<table border=\"1\" class=\"dataframe\">\n",
       "  <thead>\n",
       "    <tr style=\"text-align: right;\">\n",
       "      <th></th>\n",
       "      <th>DT_NOTIFIC</th>\n",
       "      <th>SEM_NOT</th>\n",
       "      <th>DT_SIN_PRI</th>\n",
       "      <th>SEM_PRI</th>\n",
       "      <th>SG_UF_NOT</th>\n",
       "      <th>ID_REGIONA</th>\n",
       "      <th>ID_MUNICIP</th>\n",
       "      <th>ID_UNIDADE</th>\n",
       "      <th>CS_SEXO</th>\n",
       "      <th>NU_IDADE_N</th>\n",
       "      <th>...</th>\n",
       "      <th>VACINA_COV</th>\n",
       "      <th>DOSE_1_COV</th>\n",
       "      <th>DOSE_2_COV</th>\n",
       "      <th>DOSE_REF</th>\n",
       "      <th>FAB_COV_1</th>\n",
       "      <th>FAB_COV_2</th>\n",
       "      <th>FAB_COVREF</th>\n",
       "      <th>LOTE_REF</th>\n",
       "      <th>LOTE_1_COV</th>\n",
       "      <th>LOTE_2_COV</th>\n",
       "    </tr>\n",
       "  </thead>\n",
       "  <tbody>\n",
       "    <tr>\n",
       "      <th>0</th>\n",
       "      <td>06/01/2021</td>\n",
       "      <td>1</td>\n",
       "      <td>06/01/2021</td>\n",
       "      <td>1</td>\n",
       "      <td>BA</td>\n",
       "      <td>NUCLEO REGIONAL DE SAUDE NORDESTE</td>\n",
       "      <td>ALAGOINHAS</td>\n",
       "      <td>HOSPITAL REGIONAL DANTAS BIAO</td>\n",
       "      <td>M</td>\n",
       "      <td>69</td>\n",
       "      <td>...</td>\n",
       "      <td>Não preenchido</td>\n",
       "      <td>Não preenchido</td>\n",
       "      <td>Não preenchido</td>\n",
       "      <td>Não preenchido</td>\n",
       "      <td>Não preenchido</td>\n",
       "      <td>Não preenchido</td>\n",
       "      <td>Não preenchido</td>\n",
       "      <td>Não preenchido</td>\n",
       "      <td>Não preenchido</td>\n",
       "      <td>Não preenchido</td>\n",
       "    </tr>\n",
       "    <tr>\n",
       "      <th>1</th>\n",
       "      <td>08/01/2021</td>\n",
       "      <td>1</td>\n",
       "      <td>03/01/2021</td>\n",
       "      <td>1</td>\n",
       "      <td>BA</td>\n",
       "      <td>NUCLEO REGIONAL DE SAUDE SUL</td>\n",
       "      <td>ITABUNA</td>\n",
       "      <td>HOSPITAL CALIXTO MIDLEJ FILHO</td>\n",
       "      <td>M</td>\n",
       "      <td>89</td>\n",
       "      <td>...</td>\n",
       "      <td>Não preenchido</td>\n",
       "      <td>Não preenchido</td>\n",
       "      <td>Não preenchido</td>\n",
       "      <td>Não preenchido</td>\n",
       "      <td>Não preenchido</td>\n",
       "      <td>Não preenchido</td>\n",
       "      <td>Não preenchido</td>\n",
       "      <td>Não preenchido</td>\n",
       "      <td>Não preenchido</td>\n",
       "      <td>Não preenchido</td>\n",
       "    </tr>\n",
       "    <tr>\n",
       "      <th>2</th>\n",
       "      <td>09/01/2021</td>\n",
       "      <td>1</td>\n",
       "      <td>07/01/2021</td>\n",
       "      <td>1</td>\n",
       "      <td>PR</td>\n",
       "      <td>02RS METROPOLITANA</td>\n",
       "      <td>CURITIBA</td>\n",
       "      <td>COMPLEXO HOSPITALAR DO TRABALHADOR</td>\n",
       "      <td>F</td>\n",
       "      <td>51</td>\n",
       "      <td>...</td>\n",
       "      <td>Não preenchido</td>\n",
       "      <td>Não preenchido</td>\n",
       "      <td>Não preenchido</td>\n",
       "      <td>Não preenchido</td>\n",
       "      <td>Não preenchido</td>\n",
       "      <td>Não preenchido</td>\n",
       "      <td>Não preenchido</td>\n",
       "      <td>Não preenchido</td>\n",
       "      <td>Não preenchido</td>\n",
       "      <td>Não preenchido</td>\n",
       "    </tr>\n",
       "    <tr>\n",
       "      <th>3</th>\n",
       "      <td>06/01/2021</td>\n",
       "      <td>1</td>\n",
       "      <td>05/01/2021</td>\n",
       "      <td>1</td>\n",
       "      <td>PR</td>\n",
       "      <td>17RS LONDRINA</td>\n",
       "      <td>LONDRINA</td>\n",
       "      <td>HCL HOSPITAL DO CANCER DE LONDRINA</td>\n",
       "      <td>M</td>\n",
       "      <td>57</td>\n",
       "      <td>...</td>\n",
       "      <td>Não preenchido</td>\n",
       "      <td>Não preenchido</td>\n",
       "      <td>Não preenchido</td>\n",
       "      <td>Não preenchido</td>\n",
       "      <td>Não preenchido</td>\n",
       "      <td>Não preenchido</td>\n",
       "      <td>Não preenchido</td>\n",
       "      <td>Não preenchido</td>\n",
       "      <td>Não preenchido</td>\n",
       "      <td>Não preenchido</td>\n",
       "    </tr>\n",
       "    <tr>\n",
       "      <th>4</th>\n",
       "      <td>11/01/2021</td>\n",
       "      <td>2</td>\n",
       "      <td>04/01/2021</td>\n",
       "      <td>1</td>\n",
       "      <td>RS</td>\n",
       "      <td>007 CRS</td>\n",
       "      <td>DOM PEDRITO</td>\n",
       "      <td>HOSPITAL SAO LUIZ</td>\n",
       "      <td>M</td>\n",
       "      <td>81</td>\n",
       "      <td>...</td>\n",
       "      <td>Não preenchido</td>\n",
       "      <td>Não preenchido</td>\n",
       "      <td>Não preenchido</td>\n",
       "      <td>Não preenchido</td>\n",
       "      <td>Não preenchido</td>\n",
       "      <td>Não preenchido</td>\n",
       "      <td>Não preenchido</td>\n",
       "      <td>Não preenchido</td>\n",
       "      <td>Não preenchido</td>\n",
       "      <td>Não preenchido</td>\n",
       "    </tr>\n",
       "  </tbody>\n",
       "</table>\n",
       "<p>5 rows × 122 columns</p>\n",
       "</div>"
      ],
      "text/plain": [
       "   DT_NOTIFIC  SEM_NOT  DT_SIN_PRI  SEM_PRI SG_UF_NOT  \\\n",
       "0  06/01/2021        1  06/01/2021        1        BA   \n",
       "1  08/01/2021        1  03/01/2021        1        BA   \n",
       "2  09/01/2021        1  07/01/2021        1        PR   \n",
       "3  06/01/2021        1  05/01/2021        1        PR   \n",
       "4  11/01/2021        2  04/01/2021        1        RS   \n",
       "\n",
       "                          ID_REGIONA   ID_MUNICIP  \\\n",
       "0  NUCLEO REGIONAL DE SAUDE NORDESTE   ALAGOINHAS   \n",
       "1       NUCLEO REGIONAL DE SAUDE SUL      ITABUNA   \n",
       "2                 02RS METROPOLITANA     CURITIBA   \n",
       "3                      17RS LONDRINA     LONDRINA   \n",
       "4                            007 CRS  DOM PEDRITO   \n",
       "\n",
       "                           ID_UNIDADE CS_SEXO  NU_IDADE_N  ...  \\\n",
       "0       HOSPITAL REGIONAL DANTAS BIAO       M          69  ...   \n",
       "1       HOSPITAL CALIXTO MIDLEJ FILHO       M          89  ...   \n",
       "2  COMPLEXO HOSPITALAR DO TRABALHADOR       F          51  ...   \n",
       "3  HCL HOSPITAL DO CANCER DE LONDRINA       M          57  ...   \n",
       "4                   HOSPITAL SAO LUIZ       M          81  ...   \n",
       "\n",
       "       VACINA_COV      DOSE_1_COV      DOSE_2_COV        DOSE_REF  \\\n",
       "0  Não preenchido  Não preenchido  Não preenchido  Não preenchido   \n",
       "1  Não preenchido  Não preenchido  Não preenchido  Não preenchido   \n",
       "2  Não preenchido  Não preenchido  Não preenchido  Não preenchido   \n",
       "3  Não preenchido  Não preenchido  Não preenchido  Não preenchido   \n",
       "4  Não preenchido  Não preenchido  Não preenchido  Não preenchido   \n",
       "\n",
       "        FAB_COV_1       FAB_COV_2      FAB_COVREF        LOTE_REF  \\\n",
       "0  Não preenchido  Não preenchido  Não preenchido  Não preenchido   \n",
       "1  Não preenchido  Não preenchido  Não preenchido  Não preenchido   \n",
       "2  Não preenchido  Não preenchido  Não preenchido  Não preenchido   \n",
       "3  Não preenchido  Não preenchido  Não preenchido  Não preenchido   \n",
       "4  Não preenchido  Não preenchido  Não preenchido  Não preenchido   \n",
       "\n",
       "       LOTE_1_COV      LOTE_2_COV  \n",
       "0  Não preenchido  Não preenchido  \n",
       "1  Não preenchido  Não preenchido  \n",
       "2  Não preenchido  Não preenchido  \n",
       "3  Não preenchido  Não preenchido  \n",
       "4  Não preenchido  Não preenchido  \n",
       "\n",
       "[5 rows x 122 columns]"
      ]
     },
     "execution_count": 13,
     "metadata": {},
     "output_type": "execute_result"
    }
   ],
   "source": [
    "df_2021_t.head()"
   ]
  },
  {
   "cell_type": "markdown",
   "metadata": {},
   "source": [
    "## Dados 2022"
   ]
  },
  {
   "cell_type": "code",
   "execution_count": 14,
   "metadata": {},
   "outputs": [
    {
     "name": "stdout",
     "output_type": "stream",
     "text": [
      "DT_NOTIFIC\n",
      "SEM_NOT\n",
      "DT_SIN_PRI\n",
      "SEM_PRI\n",
      "SG_UF_NOT\n",
      "ID_REGIONA\n",
      "ID_MUNICIP\n",
      "ID_UNIDADE\n",
      "CS_SEXO\n",
      "NU_IDADE_N\n",
      "TP_IDADE\n",
      "CS_GESTANT\n",
      "CS_RACA\n",
      "CS_ESCOL_N\n",
      "ID_PAIS\n",
      "SG_UF\n",
      "ID_RG_RESI\n",
      "ID_MN_RESI\n",
      "CS_ZONA\n",
      "NOSOCOMIAL\n",
      "AVE_SUINO\n",
      "FEBRE\n",
      "TOSSE\n",
      "GARGANTA\n",
      "DISPNEIA\n",
      "DESC_RESP\n",
      "SATURACAO\n",
      "DIARREIA\n",
      "VOMITO\n",
      "OUTRO_SIN\n",
      "OUTRO_DES\n",
      "PUERPERA\n",
      "FATOR_RISC\n",
      "CARDIOPATI\n",
      "HEMATOLOGI\n",
      "SIND_DOWN\n",
      "HEPATICA\n",
      "ASMA\n",
      "DIABETES\n",
      "NEUROLOGIC\n",
      "PNEUMOPATI\n",
      "IMUNODEPRE\n",
      "RENAL\n",
      "OBESIDADE\n",
      "OUT_MORBI\n",
      "MORB_DESC\n",
      "VACINA\n",
      "MAE_VAC\n",
      "M_AMAMENTA\n",
      "DT_DOSEUNI\n",
      "DT_1_DOSE\n",
      "DT_2_DOSE\n",
      "ANTIVIRAL\n",
      "TP_ANTIVIR\n",
      "HOSPITAL\n",
      "SG_UF_INTE\n",
      "ID_RG_INTE\n",
      "ID_MN_INTE\n",
      "UTI\n",
      "DT_ENTUTI\n",
      "DT_SAIDUTI\n",
      "SUPORT_VEN\n",
      "RAIOX_RES\n",
      "AMOSTRA\n",
      "TP_AMOSTRA\n",
      "PCR_RESUL\n",
      "POS_PCRFLU\n",
      "TP_FLU_PCR\n",
      "PCR_FLUASU\n",
      "PCR_FLUBLI\n",
      "POS_PCROUT\n",
      "PCR_VSR\n",
      "PCR_PARA1\n",
      "PCR_PARA2\n",
      "PCR_PARA3\n",
      "PCR_PARA4\n",
      "PCR_ADENO\n",
      "PCR_METAP\n",
      "PCR_BOCA\n",
      "PCR_RINO\n",
      "PCR_OUTRO\n",
      "CLASSI_FIN\n",
      "CRITERIO\n",
      "EVOLUCAO\n",
      "DT_EVOLUCA\n",
      "HISTO_VGM\n",
      "PAIS_VGM\n",
      "PCR_SARS2\n",
      "OUT_ANIM\n",
      "DOR_ABD\n",
      "FADIGA\n",
      "PERD_OLFT\n",
      "PERD_PALA\n",
      "TOMO_RES\n",
      "TP_TES_AN\n",
      "RES_AN\n",
      "POS_AN_FLU\n",
      "TP_FLU_AN\n",
      "POS_AN_OUT\n",
      "AN_SARS2\n",
      "AN_VSR\n",
      "AN_PARA1\n",
      "AN_PARA2\n",
      "AN_PARA3\n",
      "AN_ADENO\n",
      "AN_OUTRO\n",
      "DS_AN_OUT\n",
      "TP_AM_SOR\n",
      "TP_SOR\n",
      "RES_IGG\n",
      "RES_IGM\n",
      "RES_IGA\n",
      "VACINA_COV\n",
      "DOSE_1_COV\n",
      "DOSE_2_COV\n",
      "DOSE_REF\n",
      "FAB_COV_1\n",
      "FAB_COV_2\n",
      "FAB_COVREF\n",
      "LOTE_1_COV\n",
      "LOTE_2_COV\n",
      "LOTE_REF\n",
      "DOSE_2REF\n",
      "FAB_COVRF2\n",
      "LOTE_REF2\n",
      "TRAT_COV\n",
      "TIPO_TRAT\n"
     ]
    }
   ],
   "source": [
    "for coluna in df_2022_t.columns:\n",
    "    print(coluna)"
   ]
  },
  {
   "cell_type": "markdown",
   "metadata": {},
   "source": [
    "A partir dessa etapa conseguimos ver a real diferença entre os datasets, no dataset de 2021, a dose de reforço contra a COVID-19 ainda não existia por exemplo, e após a confirmação do vírus começaram a ser feitas as anotações a respeito do tratamento da mesma com o uso de antivirais."
   ]
  },
  {
   "cell_type": "code",
   "execution_count": 15,
   "metadata": {},
   "outputs": [
    {
     "name": "stdout",
     "output_type": "stream",
     "text": [
      "DOSE_2REF\n",
      "FAB_COVRF2\n",
      "LOTE_REF2\n",
      "TRAT_COV\n",
      "TIPO_TRAT\n"
     ]
    }
   ],
   "source": [
    "for coluna in df_2022_t.columns:\n",
    "    if coluna not in df_2021_t.columns:\n",
    "        print(coluna)"
   ]
  },
  {
   "cell_type": "code",
   "execution_count": 16,
   "metadata": {},
   "outputs": [
    {
     "name": "stderr",
     "output_type": "stream",
     "text": [
      "C:\\Users\\leona\\AppData\\Local\\Temp\\ipykernel_18672\\1796752291.py:1: FutureWarning: Setting an item of incompatible dtype is deprecated and will raise an error in a future version of pandas. Value 'Não preenchido' has dtype incompatible with float64, please explicitly cast to a compatible dtype first.\n",
      "  df_2022_t.fillna(\"Não preenchido\", inplace=True)\n"
     ]
    }
   ],
   "source": [
    "df_2022_t.fillna(\"Não preenchido\", inplace=True)"
   ]
  },
  {
   "cell_type": "code",
   "execution_count": 17,
   "metadata": {},
   "outputs": [
    {
     "data": {
      "text/html": [
       "<div>\n",
       "<style scoped>\n",
       "    .dataframe tbody tr th:only-of-type {\n",
       "        vertical-align: middle;\n",
       "    }\n",
       "\n",
       "    .dataframe tbody tr th {\n",
       "        vertical-align: top;\n",
       "    }\n",
       "\n",
       "    .dataframe thead th {\n",
       "        text-align: right;\n",
       "    }\n",
       "</style>\n",
       "<table border=\"1\" class=\"dataframe\">\n",
       "  <thead>\n",
       "    <tr style=\"text-align: right;\">\n",
       "      <th></th>\n",
       "      <th>DT_NOTIFIC</th>\n",
       "      <th>SEM_NOT</th>\n",
       "      <th>DT_SIN_PRI</th>\n",
       "      <th>SEM_PRI</th>\n",
       "      <th>SG_UF_NOT</th>\n",
       "      <th>ID_REGIONA</th>\n",
       "      <th>ID_MUNICIP</th>\n",
       "      <th>ID_UNIDADE</th>\n",
       "      <th>CS_SEXO</th>\n",
       "      <th>NU_IDADE_N</th>\n",
       "      <th>...</th>\n",
       "      <th>FAB_COV_2</th>\n",
       "      <th>FAB_COVREF</th>\n",
       "      <th>LOTE_1_COV</th>\n",
       "      <th>LOTE_2_COV</th>\n",
       "      <th>LOTE_REF</th>\n",
       "      <th>DOSE_2REF</th>\n",
       "      <th>FAB_COVRF2</th>\n",
       "      <th>LOTE_REF2</th>\n",
       "      <th>TRAT_COV</th>\n",
       "      <th>TIPO_TRAT</th>\n",
       "    </tr>\n",
       "  </thead>\n",
       "  <tbody>\n",
       "    <tr>\n",
       "      <th>0</th>\n",
       "      <td>05/01/2022</td>\n",
       "      <td>1</td>\n",
       "      <td>02/01/2022</td>\n",
       "      <td>1</td>\n",
       "      <td>RJ</td>\n",
       "      <td>Não preenchido</td>\n",
       "      <td>RIO DE JANEIRO</td>\n",
       "      <td>SMS UPA 24H MAGALHAES BASTOS AP 51</td>\n",
       "      <td>M</td>\n",
       "      <td>23</td>\n",
       "      <td>...</td>\n",
       "      <td>Não preenchido</td>\n",
       "      <td>Não preenchido</td>\n",
       "      <td>202010019</td>\n",
       "      <td>210017</td>\n",
       "      <td>Não preenchido</td>\n",
       "      <td>Não preenchido</td>\n",
       "      <td>Não preenchido</td>\n",
       "      <td>Não preenchido</td>\n",
       "      <td>Não preenchido</td>\n",
       "      <td>Não preenchido</td>\n",
       "    </tr>\n",
       "    <tr>\n",
       "      <th>1</th>\n",
       "      <td>04/01/2022</td>\n",
       "      <td>1</td>\n",
       "      <td>03/01/2022</td>\n",
       "      <td>1</td>\n",
       "      <td>MS</td>\n",
       "      <td>NRS DE DOURADOS</td>\n",
       "      <td>DOURADOS</td>\n",
       "      <td>HOSPITAL EVANGELICO DR SRA GOLDSBY KING</td>\n",
       "      <td>F</td>\n",
       "      <td>37</td>\n",
       "      <td>...</td>\n",
       "      <td>Não preenchido</td>\n",
       "      <td>Não preenchido</td>\n",
       "      <td>FC2495</td>\n",
       "      <td>FF8844</td>\n",
       "      <td>Não preenchido</td>\n",
       "      <td>Não preenchido</td>\n",
       "      <td>Não preenchido</td>\n",
       "      <td>Não preenchido</td>\n",
       "      <td>Não preenchido</td>\n",
       "      <td>Não preenchido</td>\n",
       "    </tr>\n",
       "    <tr>\n",
       "      <th>2</th>\n",
       "      <td>07/01/2022</td>\n",
       "      <td>1</td>\n",
       "      <td>04/01/2022</td>\n",
       "      <td>1</td>\n",
       "      <td>GO</td>\n",
       "      <td>SAO PATRICIO</td>\n",
       "      <td>RUBIATABA</td>\n",
       "      <td>HOSPITAL MUNICIPAL DE RUBIATABA</td>\n",
       "      <td>F</td>\n",
       "      <td>33</td>\n",
       "      <td>...</td>\n",
       "      <td>Não preenchido</td>\n",
       "      <td>Não preenchido</td>\n",
       "      <td>202010031</td>\n",
       "      <td>202010031</td>\n",
       "      <td>Não preenchido</td>\n",
       "      <td>Não preenchido</td>\n",
       "      <td>Não preenchido</td>\n",
       "      <td>Não preenchido</td>\n",
       "      <td>Não preenchido</td>\n",
       "      <td>Não preenchido</td>\n",
       "    </tr>\n",
       "    <tr>\n",
       "      <th>3</th>\n",
       "      <td>07/01/2022</td>\n",
       "      <td>1</td>\n",
       "      <td>04/01/2022</td>\n",
       "      <td>1</td>\n",
       "      <td>GO</td>\n",
       "      <td>PIRINEUS</td>\n",
       "      <td>ANAPOLIS</td>\n",
       "      <td>HOSPITAL EVANGELICO GOIANO SA</td>\n",
       "      <td>M</td>\n",
       "      <td>76</td>\n",
       "      <td>...</td>\n",
       "      <td>Não preenchido</td>\n",
       "      <td>Não preenchido</td>\n",
       "      <td>210060</td>\n",
       "      <td>210120</td>\n",
       "      <td>Não preenchido</td>\n",
       "      <td>Não preenchido</td>\n",
       "      <td>Não preenchido</td>\n",
       "      <td>Não preenchido</td>\n",
       "      <td>Não preenchido</td>\n",
       "      <td>Não preenchido</td>\n",
       "    </tr>\n",
       "    <tr>\n",
       "      <th>4</th>\n",
       "      <td>07/01/2022</td>\n",
       "      <td>1</td>\n",
       "      <td>06/01/2022</td>\n",
       "      <td>1</td>\n",
       "      <td>SP</td>\n",
       "      <td>GVE XXVII SAO JOSE DOS CAMPOS</td>\n",
       "      <td>SAO JOSE DOS CAMPOS</td>\n",
       "      <td>HOSPITAL VIVALLE</td>\n",
       "      <td>F</td>\n",
       "      <td>16</td>\n",
       "      <td>...</td>\n",
       "      <td>Não preenchido</td>\n",
       "      <td>Não preenchido</td>\n",
       "      <td>Não preenchido</td>\n",
       "      <td>Não preenchido</td>\n",
       "      <td>Não preenchido</td>\n",
       "      <td>Não preenchido</td>\n",
       "      <td>Não preenchido</td>\n",
       "      <td>Não preenchido</td>\n",
       "      <td>Não preenchido</td>\n",
       "      <td>Não preenchido</td>\n",
       "    </tr>\n",
       "  </tbody>\n",
       "</table>\n",
       "<p>5 rows × 127 columns</p>\n",
       "</div>"
      ],
      "text/plain": [
       "   DT_NOTIFIC  SEM_NOT  DT_SIN_PRI  SEM_PRI SG_UF_NOT  \\\n",
       "0  05/01/2022        1  02/01/2022        1        RJ   \n",
       "1  04/01/2022        1  03/01/2022        1        MS   \n",
       "2  07/01/2022        1  04/01/2022        1        GO   \n",
       "3  07/01/2022        1  04/01/2022        1        GO   \n",
       "4  07/01/2022        1  06/01/2022        1        SP   \n",
       "\n",
       "                      ID_REGIONA           ID_MUNICIP  \\\n",
       "0                 Não preenchido       RIO DE JANEIRO   \n",
       "1                NRS DE DOURADOS             DOURADOS   \n",
       "2                   SAO PATRICIO            RUBIATABA   \n",
       "3                       PIRINEUS             ANAPOLIS   \n",
       "4  GVE XXVII SAO JOSE DOS CAMPOS  SAO JOSE DOS CAMPOS   \n",
       "\n",
       "                                ID_UNIDADE CS_SEXO  NU_IDADE_N  ...  \\\n",
       "0       SMS UPA 24H MAGALHAES BASTOS AP 51       M          23  ...   \n",
       "1  HOSPITAL EVANGELICO DR SRA GOLDSBY KING       F          37  ...   \n",
       "2          HOSPITAL MUNICIPAL DE RUBIATABA       F          33  ...   \n",
       "3            HOSPITAL EVANGELICO GOIANO SA       M          76  ...   \n",
       "4                         HOSPITAL VIVALLE       F          16  ...   \n",
       "\n",
       "        FAB_COV_2      FAB_COVREF      LOTE_1_COV      LOTE_2_COV  \\\n",
       "0  Não preenchido  Não preenchido       202010019          210017   \n",
       "1  Não preenchido  Não preenchido          FC2495          FF8844   \n",
       "2  Não preenchido  Não preenchido       202010031       202010031   \n",
       "3  Não preenchido  Não preenchido          210060          210120   \n",
       "4  Não preenchido  Não preenchido  Não preenchido  Não preenchido   \n",
       "\n",
       "         LOTE_REF       DOSE_2REF      FAB_COVRF2       LOTE_REF2  \\\n",
       "0  Não preenchido  Não preenchido  Não preenchido  Não preenchido   \n",
       "1  Não preenchido  Não preenchido  Não preenchido  Não preenchido   \n",
       "2  Não preenchido  Não preenchido  Não preenchido  Não preenchido   \n",
       "3  Não preenchido  Não preenchido  Não preenchido  Não preenchido   \n",
       "4  Não preenchido  Não preenchido  Não preenchido  Não preenchido   \n",
       "\n",
       "         TRAT_COV       TIPO_TRAT  \n",
       "0  Não preenchido  Não preenchido  \n",
       "1  Não preenchido  Não preenchido  \n",
       "2  Não preenchido  Não preenchido  \n",
       "3  Não preenchido  Não preenchido  \n",
       "4  Não preenchido  Não preenchido  \n",
       "\n",
       "[5 rows x 127 columns]"
      ]
     },
     "execution_count": 17,
     "metadata": {},
     "output_type": "execute_result"
    }
   ],
   "source": [
    "df_2022_t.head()"
   ]
  },
  {
   "cell_type": "markdown",
   "metadata": {},
   "source": [
    "## Dados 2023"
   ]
  },
  {
   "cell_type": "code",
   "execution_count": 18,
   "metadata": {},
   "outputs": [
    {
     "name": "stdout",
     "output_type": "stream",
     "text": [
      "DT_NOTIFIC\n",
      "SEM_NOT\n",
      "DT_SIN_PRI\n",
      "SEM_PRI\n",
      "SG_UF_NOT\n",
      "ID_REGIONA\n",
      "ID_MUNICIP\n",
      "ID_UNIDADE\n",
      "CS_SEXO\n",
      "NU_IDADE_N\n",
      "TP_IDADE\n",
      "CS_GESTANT\n",
      "CS_RACA\n",
      "CS_ESCOL_N\n",
      "ID_PAIS\n",
      "SG_UF\n",
      "ID_RG_RESI\n",
      "ID_MN_RESI\n",
      "CS_ZONA\n",
      "NOSOCOMIAL\n",
      "AVE_SUINO\n",
      "FEBRE\n",
      "TOSSE\n",
      "GARGANTA\n",
      "DISPNEIA\n",
      "DESC_RESP\n",
      "SATURACAO\n",
      "DIARREIA\n",
      "VOMITO\n",
      "OUTRO_SIN\n",
      "OUTRO_DES\n",
      "PUERPERA\n",
      "FATOR_RISC\n",
      "CARDIOPATI\n",
      "HEMATOLOGI\n",
      "SIND_DOWN\n",
      "HEPATICA\n",
      "ASMA\n",
      "DIABETES\n",
      "NEUROLOGIC\n",
      "PNEUMOPATI\n",
      "IMUNODEPRE\n",
      "RENAL\n",
      "OBESIDADE\n",
      "OUT_MORBI\n",
      "MORB_DESC\n",
      "VACINA\n",
      "MAE_VAC\n",
      "M_AMAMENTA\n",
      "DT_DOSEUNI\n",
      "DT_1_DOSE\n",
      "DT_2_DOSE\n",
      "ANTIVIRAL\n",
      "TP_ANTIVIR\n",
      "HOSPITAL\n",
      "SG_UF_INTE\n",
      "ID_RG_INTE\n",
      "ID_MN_INTE\n",
      "UTI\n",
      "DT_ENTUTI\n",
      "DT_SAIDUTI\n",
      "SUPORT_VEN\n",
      "RAIOX_RES\n",
      "AMOSTRA\n",
      "TP_AMOSTRA\n",
      "PCR_RESUL\n",
      "POS_PCRFLU\n",
      "TP_FLU_PCR\n",
      "PCR_FLUASU\n",
      "PCR_FLUBLI\n",
      "POS_PCROUT\n",
      "PCR_VSR\n",
      "PCR_PARA1\n",
      "PCR_PARA2\n",
      "PCR_PARA3\n",
      "PCR_PARA4\n",
      "PCR_ADENO\n",
      "PCR_METAP\n",
      "PCR_BOCA\n",
      "PCR_RINO\n",
      "PCR_OUTRO\n",
      "CLASSI_FIN\n",
      "CRITERIO\n",
      "EVOLUCAO\n",
      "DT_EVOLUCA\n",
      "HISTO_VGM\n",
      "PAIS_VGM\n",
      "PCR_SARS2\n",
      "OUT_ANIM\n",
      "DOR_ABD\n",
      "FADIGA\n",
      "PERD_OLFT\n",
      "PERD_PALA\n",
      "TOMO_RES\n",
      "TP_TES_AN\n",
      "RES_AN\n",
      "POS_AN_FLU\n",
      "TP_FLU_AN\n",
      "POS_AN_OUT\n",
      "AN_SARS2\n",
      "AN_VSR\n",
      "AN_PARA1\n",
      "AN_PARA2\n",
      "AN_PARA3\n",
      "AN_ADENO\n",
      "AN_OUTRO\n",
      "DS_AN_OUT\n",
      "TP_AM_SOR\n",
      "TP_SOR\n",
      "RES_IGG\n",
      "RES_IGM\n",
      "RES_IGA\n",
      "VACINA_COV\n",
      "DOSE_1_COV\n",
      "DOSE_2_COV\n",
      "DOSE_REF\n",
      "FAB_COV_1\n",
      "FAB_COV_2\n",
      "FAB_COVREF\n",
      "LOTE_1_COV\n",
      "LOTE_2_COV\n",
      "LOTE_REF\n",
      "DOSE_2REF\n",
      "FAB_COVRF2\n",
      "LOTE_REF2\n",
      "TRAT_COV\n",
      "TIPO_TRAT\n",
      "CO_DETEC\n",
      "VG_OMS\n",
      "VG_OMSOUT\n",
      "VG_LIN\n",
      "VG_MET\n",
      "VG_METOUT\n",
      "VG_DTRES\n",
      "VG_ENC\n",
      "VG_REINF\n",
      "REINF\n",
      "FAB_ADIC\n",
      "LOT_RE_BI\n",
      "FAB_RE_BI\n",
      "DOSE_ADIC\n",
      "DOS_RE_BI\n",
      "LOTE_ADIC\n",
      "TABAG\n"
     ]
    }
   ],
   "source": [
    "for coluna in df_2023_t.columns:\n",
    "    print(coluna)"
   ]
  },
  {
   "cell_type": "markdown",
   "metadata": {},
   "source": [
    "As colunas que estão no dataset de 2023 mas não estão nos anteriores não possuem descrição no dicionário de dados e como a maioria delas são a respeito de datas ou valores marcados como nulos essas colunas também serão desconsideradas.\n",
    "\n",
    "Como sabemos que os datasets de anos posteriores possuem todas as colunas de anos anteriores precisamos remover essas colunas tanto do dataset de 2023 como do de 2024"
   ]
  },
  {
   "cell_type": "code",
   "execution_count": 19,
   "metadata": {},
   "outputs": [
    {
     "name": "stdout",
     "output_type": "stream",
     "text": [
      "['CO_DETEC', 'VG_OMS', 'VG_OMSOUT', 'VG_LIN', 'VG_MET', 'VG_METOUT', 'VG_DTRES', 'VG_ENC', 'VG_REINF', 'REINF', 'FAB_ADIC', 'LOT_RE_BI', 'FAB_RE_BI', 'DOSE_ADIC', 'DOS_RE_BI', 'LOTE_ADIC', 'TABAG']\n"
     ]
    }
   ],
   "source": [
    "colunas_drop = []\n",
    "\n",
    "for coluna in df_2023_t.columns:\n",
    "    if coluna not in df_2022_t.columns:\n",
    "        colunas_drop.append(coluna)\n",
    "\n",
    "print(colunas_drop)"
   ]
  },
  {
   "cell_type": "code",
   "execution_count": 20,
   "metadata": {},
   "outputs": [],
   "source": [
    "df_2023_t = df_2023_t.drop(colunas_drop, axis = 1)"
   ]
  },
  {
   "cell_type": "code",
   "execution_count": 21,
   "metadata": {},
   "outputs": [],
   "source": [
    "df_2024_t = df_2024_t.drop(colunas_drop, axis = 1)"
   ]
  },
  {
   "cell_type": "code",
   "execution_count": 22,
   "metadata": {},
   "outputs": [
    {
     "name": "stderr",
     "output_type": "stream",
     "text": [
      "C:\\Users\\leona\\AppData\\Local\\Temp\\ipykernel_18672\\3156150768.py:1: FutureWarning: Setting an item of incompatible dtype is deprecated and will raise an error in a future version of pandas. Value 'Não preenchido' has dtype incompatible with float64, please explicitly cast to a compatible dtype first.\n",
      "  df_2023_t.fillna(\"Não preenchido\", inplace=True)\n"
     ]
    }
   ],
   "source": [
    "df_2023_t.fillna(\"Não preenchido\", inplace=True)"
   ]
  },
  {
   "cell_type": "code",
   "execution_count": 23,
   "metadata": {},
   "outputs": [
    {
     "data": {
      "text/html": [
       "<div>\n",
       "<style scoped>\n",
       "    .dataframe tbody tr th:only-of-type {\n",
       "        vertical-align: middle;\n",
       "    }\n",
       "\n",
       "    .dataframe tbody tr th {\n",
       "        vertical-align: top;\n",
       "    }\n",
       "\n",
       "    .dataframe thead th {\n",
       "        text-align: right;\n",
       "    }\n",
       "</style>\n",
       "<table border=\"1\" class=\"dataframe\">\n",
       "  <thead>\n",
       "    <tr style=\"text-align: right;\">\n",
       "      <th></th>\n",
       "      <th>DT_NOTIFIC</th>\n",
       "      <th>SEM_NOT</th>\n",
       "      <th>DT_SIN_PRI</th>\n",
       "      <th>SEM_PRI</th>\n",
       "      <th>SG_UF_NOT</th>\n",
       "      <th>ID_REGIONA</th>\n",
       "      <th>ID_MUNICIP</th>\n",
       "      <th>ID_UNIDADE</th>\n",
       "      <th>CS_SEXO</th>\n",
       "      <th>NU_IDADE_N</th>\n",
       "      <th>...</th>\n",
       "      <th>FAB_COV_2</th>\n",
       "      <th>FAB_COVREF</th>\n",
       "      <th>LOTE_1_COV</th>\n",
       "      <th>LOTE_2_COV</th>\n",
       "      <th>LOTE_REF</th>\n",
       "      <th>DOSE_2REF</th>\n",
       "      <th>FAB_COVRF2</th>\n",
       "      <th>LOTE_REF2</th>\n",
       "      <th>TRAT_COV</th>\n",
       "      <th>TIPO_TRAT</th>\n",
       "    </tr>\n",
       "  </thead>\n",
       "  <tbody>\n",
       "    <tr>\n",
       "      <th>0</th>\n",
       "      <td>08/02/2023</td>\n",
       "      <td>6</td>\n",
       "      <td>23/01/2023</td>\n",
       "      <td>4</td>\n",
       "      <td>RS</td>\n",
       "      <td>014 CRS</td>\n",
       "      <td>CAMPINA DAS MISSOES</td>\n",
       "      <td>POSTO DE SAUDE SEDE E PACS CAMPINA DAS MISSOES</td>\n",
       "      <td>M</td>\n",
       "      <td>81</td>\n",
       "      <td>...</td>\n",
       "      <td>86 - COVID-19 SINOVAC/BUTANTAN - CORONAVAC</td>\n",
       "      <td>87 - COVID-19 PFIZER - COMIRNATY</td>\n",
       "      <td>210051</td>\n",
       "      <td>210132</td>\n",
       "      <td>FG3531</td>\n",
       "      <td>07/06/2022</td>\n",
       "      <td>85 - COVID-19 ASTRAZENECA/FIOCRUZ - COVISHIELD</td>\n",
       "      <td>21OVCD316Z</td>\n",
       "      <td>9.0</td>\n",
       "      <td>Não preenchido</td>\n",
       "    </tr>\n",
       "    <tr>\n",
       "      <th>1</th>\n",
       "      <td>14/02/2023</td>\n",
       "      <td>7</td>\n",
       "      <td>13/02/2023</td>\n",
       "      <td>7</td>\n",
       "      <td>SC</td>\n",
       "      <td>FLORIANOPOLIS</td>\n",
       "      <td>FLORIANOPOLIS</td>\n",
       "      <td>INSTITUTO DE ENSINO E PESQUISA DR IRINEU MAY B...</td>\n",
       "      <td>M</td>\n",
       "      <td>76</td>\n",
       "      <td>...</td>\n",
       "      <td>86 - COVID-19 SINOVAC/BUTANTAN - CORONAVAC</td>\n",
       "      <td>Não preenchido</td>\n",
       "      <td>210075</td>\n",
       "      <td>210132</td>\n",
       "      <td>Não preenchido</td>\n",
       "      <td>30/07/2022</td>\n",
       "      <td>87 - COVID-19 PFIZER - COMIRNATY</td>\n",
       "      <td>FP7498</td>\n",
       "      <td>Não preenchido</td>\n",
       "      <td>Não preenchido</td>\n",
       "    </tr>\n",
       "    <tr>\n",
       "      <th>2</th>\n",
       "      <td>24/02/2023</td>\n",
       "      <td>8</td>\n",
       "      <td>16/02/2023</td>\n",
       "      <td>7</td>\n",
       "      <td>SP</td>\n",
       "      <td>GVE I CAPITAL</td>\n",
       "      <td>SAO PAULO</td>\n",
       "      <td>BP MIRANTE</td>\n",
       "      <td>F</td>\n",
       "      <td>20</td>\n",
       "      <td>...</td>\n",
       "      <td>87 - COVID-19 PFIZER - COMIRNATY</td>\n",
       "      <td>85 - COVID-19 ASTRAZENECA/FIOCRUZ - COVISHIELD</td>\n",
       "      <td>FE2083</td>\n",
       "      <td>FF8844</td>\n",
       "      <td>219VCD291W</td>\n",
       "      <td>Não preenchido</td>\n",
       "      <td>Não preenchido</td>\n",
       "      <td>Não preenchido</td>\n",
       "      <td>2.0</td>\n",
       "      <td>Não preenchido</td>\n",
       "    </tr>\n",
       "    <tr>\n",
       "      <th>3</th>\n",
       "      <td>16/02/2023</td>\n",
       "      <td>7</td>\n",
       "      <td>04/02/2023</td>\n",
       "      <td>5</td>\n",
       "      <td>SP</td>\n",
       "      <td>GVE XXIV RIBEIRAO PRETO</td>\n",
       "      <td>CAJURU</td>\n",
       "      <td>CASA DE CARIDADE SAO VICENTE DE PAULO CAJURU</td>\n",
       "      <td>F</td>\n",
       "      <td>18</td>\n",
       "      <td>...</td>\n",
       "      <td>87 - COVID-19 PFIZER - COMIRNATY</td>\n",
       "      <td>87 - COVID-19 PFIZER - COMIRNATY</td>\n",
       "      <td>FF2591</td>\n",
       "      <td>FG3533</td>\n",
       "      <td>FT7280</td>\n",
       "      <td>Não preenchido</td>\n",
       "      <td>Não preenchido</td>\n",
       "      <td>Não preenchido</td>\n",
       "      <td>Não preenchido</td>\n",
       "      <td>Não preenchido</td>\n",
       "    </tr>\n",
       "    <tr>\n",
       "      <th>4</th>\n",
       "      <td>27/02/2023</td>\n",
       "      <td>9</td>\n",
       "      <td>25/02/2023</td>\n",
       "      <td>8</td>\n",
       "      <td>PR</td>\n",
       "      <td>02RS METROPOLITANA</td>\n",
       "      <td>CURITIBA</td>\n",
       "      <td>HOSPITAL UNIVERSITARIO EVANGELICO MACKENZIE</td>\n",
       "      <td>M</td>\n",
       "      <td>2</td>\n",
       "      <td>...</td>\n",
       "      <td>Não preenchido</td>\n",
       "      <td>Não preenchido</td>\n",
       "      <td>Não preenchido</td>\n",
       "      <td>Não preenchido</td>\n",
       "      <td>Não preenchido</td>\n",
       "      <td>Não preenchido</td>\n",
       "      <td>Não preenchido</td>\n",
       "      <td>Não preenchido</td>\n",
       "      <td>2.0</td>\n",
       "      <td>Não preenchido</td>\n",
       "    </tr>\n",
       "  </tbody>\n",
       "</table>\n",
       "<p>5 rows × 127 columns</p>\n",
       "</div>"
      ],
      "text/plain": [
       "   DT_NOTIFIC  SEM_NOT  DT_SIN_PRI  SEM_PRI SG_UF_NOT  \\\n",
       "0  08/02/2023        6  23/01/2023        4        RS   \n",
       "1  14/02/2023        7  13/02/2023        7        SC   \n",
       "2  24/02/2023        8  16/02/2023        7        SP   \n",
       "3  16/02/2023        7  04/02/2023        5        SP   \n",
       "4  27/02/2023        9  25/02/2023        8        PR   \n",
       "\n",
       "                ID_REGIONA           ID_MUNICIP  \\\n",
       "0                  014 CRS  CAMPINA DAS MISSOES   \n",
       "1            FLORIANOPOLIS        FLORIANOPOLIS   \n",
       "2            GVE I CAPITAL            SAO PAULO   \n",
       "3  GVE XXIV RIBEIRAO PRETO               CAJURU   \n",
       "4       02RS METROPOLITANA             CURITIBA   \n",
       "\n",
       "                                          ID_UNIDADE CS_SEXO  NU_IDADE_N  ...  \\\n",
       "0     POSTO DE SAUDE SEDE E PACS CAMPINA DAS MISSOES       M          81  ...   \n",
       "1  INSTITUTO DE ENSINO E PESQUISA DR IRINEU MAY B...       M          76  ...   \n",
       "2                                         BP MIRANTE       F          20  ...   \n",
       "3       CASA DE CARIDADE SAO VICENTE DE PAULO CAJURU       F          18  ...   \n",
       "4        HOSPITAL UNIVERSITARIO EVANGELICO MACKENZIE       M           2  ...   \n",
       "\n",
       "                                    FAB_COV_2  \\\n",
       "0  86 - COVID-19 SINOVAC/BUTANTAN - CORONAVAC   \n",
       "1  86 - COVID-19 SINOVAC/BUTANTAN - CORONAVAC   \n",
       "2            87 - COVID-19 PFIZER - COMIRNATY   \n",
       "3            87 - COVID-19 PFIZER - COMIRNATY   \n",
       "4                              Não preenchido   \n",
       "\n",
       "                                       FAB_COVREF      LOTE_1_COV  \\\n",
       "0                87 - COVID-19 PFIZER - COMIRNATY          210051   \n",
       "1                                  Não preenchido          210075   \n",
       "2  85 - COVID-19 ASTRAZENECA/FIOCRUZ - COVISHIELD          FE2083   \n",
       "3                87 - COVID-19 PFIZER - COMIRNATY          FF2591   \n",
       "4                                  Não preenchido  Não preenchido   \n",
       "\n",
       "       LOTE_2_COV        LOTE_REF       DOSE_2REF  \\\n",
       "0          210132          FG3531      07/06/2022   \n",
       "1          210132  Não preenchido      30/07/2022   \n",
       "2          FF8844      219VCD291W  Não preenchido   \n",
       "3          FG3533          FT7280  Não preenchido   \n",
       "4  Não preenchido  Não preenchido  Não preenchido   \n",
       "\n",
       "                                       FAB_COVRF2       LOTE_REF2  \\\n",
       "0  85 - COVID-19 ASTRAZENECA/FIOCRUZ - COVISHIELD      21OVCD316Z   \n",
       "1                87 - COVID-19 PFIZER - COMIRNATY          FP7498   \n",
       "2                                  Não preenchido  Não preenchido   \n",
       "3                                  Não preenchido  Não preenchido   \n",
       "4                                  Não preenchido  Não preenchido   \n",
       "\n",
       "         TRAT_COV       TIPO_TRAT  \n",
       "0             9.0  Não preenchido  \n",
       "1  Não preenchido  Não preenchido  \n",
       "2             2.0  Não preenchido  \n",
       "3  Não preenchido  Não preenchido  \n",
       "4             2.0  Não preenchido  \n",
       "\n",
       "[5 rows x 127 columns]"
      ]
     },
     "execution_count": 23,
     "metadata": {},
     "output_type": "execute_result"
    }
   ],
   "source": [
    "df_2023_t.head()"
   ]
  },
  {
   "cell_type": "markdown",
   "metadata": {},
   "source": [
    "## Dados 2024"
   ]
  },
  {
   "cell_type": "code",
   "execution_count": 24,
   "metadata": {},
   "outputs": [
    {
     "name": "stdout",
     "output_type": "stream",
     "text": [
      "DT_NOTIFIC\n",
      "SEM_NOT\n",
      "DT_SIN_PRI\n",
      "SEM_PRI\n",
      "SG_UF_NOT\n",
      "ID_REGIONA\n",
      "ID_MUNICIP\n",
      "ID_UNIDADE\n",
      "CS_SEXO\n",
      "NU_IDADE_N\n",
      "TP_IDADE\n",
      "CS_GESTANT\n",
      "CS_RACA\n",
      "CS_ESCOL_N\n",
      "ID_PAIS\n",
      "SG_UF\n",
      "ID_RG_RESI\n",
      "ID_MN_RESI\n",
      "CS_ZONA\n",
      "NOSOCOMIAL\n",
      "AVE_SUINO\n",
      "FEBRE\n",
      "TOSSE\n",
      "GARGANTA\n",
      "DISPNEIA\n",
      "DESC_RESP\n",
      "SATURACAO\n",
      "DIARREIA\n",
      "VOMITO\n",
      "OUTRO_SIN\n",
      "OUTRO_DES\n",
      "PUERPERA\n",
      "FATOR_RISC\n",
      "CARDIOPATI\n",
      "HEMATOLOGI\n",
      "SIND_DOWN\n",
      "HEPATICA\n",
      "ASMA\n",
      "DIABETES\n",
      "NEUROLOGIC\n",
      "PNEUMOPATI\n",
      "IMUNODEPRE\n",
      "RENAL\n",
      "OBESIDADE\n",
      "OUT_MORBI\n",
      "MORB_DESC\n",
      "VACINA\n",
      "MAE_VAC\n",
      "M_AMAMENTA\n",
      "DT_DOSEUNI\n",
      "DT_1_DOSE\n",
      "DT_2_DOSE\n",
      "ANTIVIRAL\n",
      "TP_ANTIVIR\n",
      "HOSPITAL\n",
      "SG_UF_INTE\n",
      "ID_RG_INTE\n",
      "ID_MN_INTE\n",
      "UTI\n",
      "DT_ENTUTI\n",
      "DT_SAIDUTI\n",
      "SUPORT_VEN\n",
      "RAIOX_RES\n",
      "AMOSTRA\n",
      "TP_AMOSTRA\n",
      "PCR_RESUL\n",
      "POS_PCRFLU\n",
      "TP_FLU_PCR\n",
      "PCR_FLUASU\n",
      "PCR_FLUBLI\n",
      "POS_PCROUT\n",
      "PCR_VSR\n",
      "PCR_PARA1\n",
      "PCR_PARA2\n",
      "PCR_PARA3\n",
      "PCR_PARA4\n",
      "PCR_ADENO\n",
      "PCR_METAP\n",
      "PCR_BOCA\n",
      "PCR_RINO\n",
      "PCR_OUTRO\n",
      "CLASSI_FIN\n",
      "CRITERIO\n",
      "EVOLUCAO\n",
      "DT_EVOLUCA\n",
      "HISTO_VGM\n",
      "PAIS_VGM\n",
      "PCR_SARS2\n",
      "OUT_ANIM\n",
      "DOR_ABD\n",
      "FADIGA\n",
      "PERD_OLFT\n",
      "PERD_PALA\n",
      "TOMO_RES\n",
      "TP_TES_AN\n",
      "RES_AN\n",
      "POS_AN_FLU\n",
      "TP_FLU_AN\n",
      "POS_AN_OUT\n",
      "AN_SARS2\n",
      "AN_VSR\n",
      "AN_PARA1\n",
      "AN_PARA2\n",
      "AN_PARA3\n",
      "AN_ADENO\n",
      "AN_OUTRO\n",
      "DS_AN_OUT\n",
      "TP_AM_SOR\n",
      "TP_SOR\n",
      "RES_IGG\n",
      "RES_IGM\n",
      "RES_IGA\n",
      "VACINA_COV\n",
      "DOSE_1_COV\n",
      "DOSE_2_COV\n",
      "DOSE_REF\n",
      "FAB_COV_1\n",
      "FAB_COV_2\n",
      "FAB_COVREF\n",
      "LOTE_1_COV\n",
      "LOTE_2_COV\n",
      "LOTE_REF\n",
      "DOSE_2REF\n",
      "FAB_COVRF2\n",
      "LOTE_REF2\n",
      "TRAT_COV\n",
      "TIPO_TRAT\n",
      "CASO_SRAG\n"
     ]
    }
   ],
   "source": [
    "for coluna in df_2024_t.columns:\n",
    "    print(coluna)"
   ]
  },
  {
   "cell_type": "code",
   "execution_count": 25,
   "metadata": {},
   "outputs": [
    {
     "name": "stdout",
     "output_type": "stream",
     "text": [
      "['CASO_SRAG']\n"
     ]
    }
   ],
   "source": [
    "colunas_drop = []\n",
    "\n",
    "for coluna in df_2024_t.columns:\n",
    "    if coluna not in df_2023_t.columns:\n",
    "        colunas_drop.append(coluna)\n",
    "\n",
    "print(colunas_drop)"
   ]
  },
  {
   "cell_type": "markdown",
   "metadata": {},
   "source": [
    "Novamente a coluna presente no dataset de 2024 não possui descrição no dicionário então também será removida"
   ]
  },
  {
   "cell_type": "code",
   "execution_count": 26,
   "metadata": {},
   "outputs": [],
   "source": [
    "df_2024_t = df_2024_t.drop(colunas_drop, axis = 1)"
   ]
  },
  {
   "cell_type": "code",
   "execution_count": 27,
   "metadata": {},
   "outputs": [
    {
     "name": "stderr",
     "output_type": "stream",
     "text": [
      "C:\\Users\\leona\\AppData\\Local\\Temp\\ipykernel_18672\\3182766698.py:1: FutureWarning: Setting an item of incompatible dtype is deprecated and will raise an error in a future version of pandas. Value 'Não preenchido' has dtype incompatible with float64, please explicitly cast to a compatible dtype first.\n",
      "  df_2024_t.fillna(\"Não preenchido\", inplace=True)\n"
     ]
    }
   ],
   "source": [
    "df_2024_t.fillna(\"Não preenchido\", inplace=True)"
   ]
  },
  {
   "cell_type": "code",
   "execution_count": 28,
   "metadata": {},
   "outputs": [
    {
     "data": {
      "text/html": [
       "<div>\n",
       "<style scoped>\n",
       "    .dataframe tbody tr th:only-of-type {\n",
       "        vertical-align: middle;\n",
       "    }\n",
       "\n",
       "    .dataframe tbody tr th {\n",
       "        vertical-align: top;\n",
       "    }\n",
       "\n",
       "    .dataframe thead th {\n",
       "        text-align: right;\n",
       "    }\n",
       "</style>\n",
       "<table border=\"1\" class=\"dataframe\">\n",
       "  <thead>\n",
       "    <tr style=\"text-align: right;\">\n",
       "      <th></th>\n",
       "      <th>DT_NOTIFIC</th>\n",
       "      <th>SEM_NOT</th>\n",
       "      <th>DT_SIN_PRI</th>\n",
       "      <th>SEM_PRI</th>\n",
       "      <th>SG_UF_NOT</th>\n",
       "      <th>ID_REGIONA</th>\n",
       "      <th>ID_MUNICIP</th>\n",
       "      <th>ID_UNIDADE</th>\n",
       "      <th>CS_SEXO</th>\n",
       "      <th>NU_IDADE_N</th>\n",
       "      <th>...</th>\n",
       "      <th>FAB_COV_2</th>\n",
       "      <th>FAB_COVREF</th>\n",
       "      <th>LOTE_1_COV</th>\n",
       "      <th>LOTE_2_COV</th>\n",
       "      <th>LOTE_REF</th>\n",
       "      <th>DOSE_2REF</th>\n",
       "      <th>FAB_COVRF2</th>\n",
       "      <th>LOTE_REF2</th>\n",
       "      <th>TRAT_COV</th>\n",
       "      <th>TIPO_TRAT</th>\n",
       "    </tr>\n",
       "  </thead>\n",
       "  <tbody>\n",
       "    <tr>\n",
       "      <th>0</th>\n",
       "      <td>16/01/2024</td>\n",
       "      <td>3</td>\n",
       "      <td>06/01/2024</td>\n",
       "      <td>1</td>\n",
       "      <td>MG</td>\n",
       "      <td>BELO HORIZONTE</td>\n",
       "      <td>BELO HORIZONTE</td>\n",
       "      <td>HOSPITAL DA BALEIA</td>\n",
       "      <td>F</td>\n",
       "      <td>53</td>\n",
       "      <td>...</td>\n",
       "      <td>85 - COVID-19 ASTRAZENECA/FIOCRUZ - COVISHIELD</td>\n",
       "      <td>87 - COVID-19 PFIZER - COMIRNATY</td>\n",
       "      <td>213VCD030Z</td>\n",
       "      <td>214VCD110Z</td>\n",
       "      <td>FF2592</td>\n",
       "      <td>22/08/2022</td>\n",
       "      <td>87 - COVID-19 PFIZER - COMIRNATY</td>\n",
       "      <td>1F1062A</td>\n",
       "      <td>2.0</td>\n",
       "      <td>Não preenchido</td>\n",
       "    </tr>\n",
       "    <tr>\n",
       "      <th>1</th>\n",
       "      <td>30/01/2024</td>\n",
       "      <td>5</td>\n",
       "      <td>12/01/2024</td>\n",
       "      <td>2</td>\n",
       "      <td>SP</td>\n",
       "      <td>GVE I CAPITAL</td>\n",
       "      <td>SAO PAULO</td>\n",
       "      <td>HOSPITAL BOSQUE DA SAUDE</td>\n",
       "      <td>M</td>\n",
       "      <td>51</td>\n",
       "      <td>...</td>\n",
       "      <td>85 - COVID-19 ASTRAZENECA/FIOCRUZ - COVISHIELD</td>\n",
       "      <td>87 - COVID-19 PFIZER - COMIRNATY</td>\n",
       "      <td>214VCD069W</td>\n",
       "      <td>216VCD219W</td>\n",
       "      <td>FM2958</td>\n",
       "      <td>05/07/2022</td>\n",
       "      <td>85 - COVID-19 ASTRAZENECA/FIOCRUZ - COVISHIELD</td>\n",
       "      <td>221VCD008Z</td>\n",
       "      <td>9.0</td>\n",
       "      <td>Não preenchido</td>\n",
       "    </tr>\n",
       "    <tr>\n",
       "      <th>2</th>\n",
       "      <td>05/02/2024</td>\n",
       "      <td>6</td>\n",
       "      <td>25/01/2024</td>\n",
       "      <td>4</td>\n",
       "      <td>BA</td>\n",
       "      <td>NUCLEO REGIONAL DE SAUDE LESTE</td>\n",
       "      <td>SALVADOR</td>\n",
       "      <td>HOSPITAL SAO RAFAEL</td>\n",
       "      <td>M</td>\n",
       "      <td>81</td>\n",
       "      <td>...</td>\n",
       "      <td>86 - COVID-19 SINOVAC/BUTANTAN - CORONAVAC</td>\n",
       "      <td>87 - COVID-19 PFIZER - COMIRNATY</td>\n",
       "      <td>210038</td>\n",
       "      <td>210054</td>\n",
       "      <td>31045BD</td>\n",
       "      <td>11/04/2022</td>\n",
       "      <td>87 - COVID-19 PFIZER - COMIRNATY</td>\n",
       "      <td>FN9606</td>\n",
       "      <td>2.0</td>\n",
       "      <td>Não preenchido</td>\n",
       "    </tr>\n",
       "    <tr>\n",
       "      <th>3</th>\n",
       "      <td>06/02/2024</td>\n",
       "      <td>6</td>\n",
       "      <td>30/01/2024</td>\n",
       "      <td>5</td>\n",
       "      <td>SC</td>\n",
       "      <td>XANXERE</td>\n",
       "      <td>XANXERE</td>\n",
       "      <td>HOSPITAL REGIONAL SAO PAULO ASSEC</td>\n",
       "      <td>F</td>\n",
       "      <td>71</td>\n",
       "      <td>...</td>\n",
       "      <td>86 - COVID-19 SINOVAC/BUTANTAN - CORONAVAC</td>\n",
       "      <td>Não preenchido</td>\n",
       "      <td>210214</td>\n",
       "      <td>210218</td>\n",
       "      <td>Não preenchido</td>\n",
       "      <td>Não preenchido</td>\n",
       "      <td>Não preenchido</td>\n",
       "      <td>Não preenchido</td>\n",
       "      <td>2.0</td>\n",
       "      <td>Não preenchido</td>\n",
       "    </tr>\n",
       "    <tr>\n",
       "      <th>4</th>\n",
       "      <td>15/02/2024</td>\n",
       "      <td>7</td>\n",
       "      <td>04/02/2024</td>\n",
       "      <td>6</td>\n",
       "      <td>PR</td>\n",
       "      <td>02RS METROPOLITANA</td>\n",
       "      <td>CURITIBA</td>\n",
       "      <td>HOSPITAL DO IDOSO ZILDA ARNS</td>\n",
       "      <td>F</td>\n",
       "      <td>38</td>\n",
       "      <td>...</td>\n",
       "      <td>86 - COVID-19 SINOVAC/BUTANTAN - CORONAVAC</td>\n",
       "      <td>85 - COVID-19 ASTRAZENECA/FIOCRUZ - COVISHIELD</td>\n",
       "      <td>202010036</td>\n",
       "      <td>210011A</td>\n",
       "      <td>21OVCD324X</td>\n",
       "      <td>Não preenchido</td>\n",
       "      <td>Não preenchido</td>\n",
       "      <td>Não preenchido</td>\n",
       "      <td>9.0</td>\n",
       "      <td>Não preenchido</td>\n",
       "    </tr>\n",
       "  </tbody>\n",
       "</table>\n",
       "<p>5 rows × 127 columns</p>\n",
       "</div>"
      ],
      "text/plain": [
       "   DT_NOTIFIC  SEM_NOT  DT_SIN_PRI  SEM_PRI SG_UF_NOT  \\\n",
       "0  16/01/2024        3  06/01/2024        1        MG   \n",
       "1  30/01/2024        5  12/01/2024        2        SP   \n",
       "2  05/02/2024        6  25/01/2024        4        BA   \n",
       "3  06/02/2024        6  30/01/2024        5        SC   \n",
       "4  15/02/2024        7  04/02/2024        6        PR   \n",
       "\n",
       "                       ID_REGIONA      ID_MUNICIP  \\\n",
       "0                  BELO HORIZONTE  BELO HORIZONTE   \n",
       "1                   GVE I CAPITAL       SAO PAULO   \n",
       "2  NUCLEO REGIONAL DE SAUDE LESTE        SALVADOR   \n",
       "3                         XANXERE         XANXERE   \n",
       "4              02RS METROPOLITANA        CURITIBA   \n",
       "\n",
       "                          ID_UNIDADE CS_SEXO  NU_IDADE_N  ...  \\\n",
       "0                 HOSPITAL DA BALEIA       F          53  ...   \n",
       "1           HOSPITAL BOSQUE DA SAUDE       M          51  ...   \n",
       "2                HOSPITAL SAO RAFAEL       M          81  ...   \n",
       "3  HOSPITAL REGIONAL SAO PAULO ASSEC       F          71  ...   \n",
       "4       HOSPITAL DO IDOSO ZILDA ARNS       F          38  ...   \n",
       "\n",
       "                                        FAB_COV_2  \\\n",
       "0  85 - COVID-19 ASTRAZENECA/FIOCRUZ - COVISHIELD   \n",
       "1  85 - COVID-19 ASTRAZENECA/FIOCRUZ - COVISHIELD   \n",
       "2      86 - COVID-19 SINOVAC/BUTANTAN - CORONAVAC   \n",
       "3      86 - COVID-19 SINOVAC/BUTANTAN - CORONAVAC   \n",
       "4      86 - COVID-19 SINOVAC/BUTANTAN - CORONAVAC   \n",
       "\n",
       "                                       FAB_COVREF  LOTE_1_COV  LOTE_2_COV  \\\n",
       "0                87 - COVID-19 PFIZER - COMIRNATY  213VCD030Z  214VCD110Z   \n",
       "1                87 - COVID-19 PFIZER - COMIRNATY  214VCD069W  216VCD219W   \n",
       "2                87 - COVID-19 PFIZER - COMIRNATY      210038      210054   \n",
       "3                                  Não preenchido      210214      210218   \n",
       "4  85 - COVID-19 ASTRAZENECA/FIOCRUZ - COVISHIELD   202010036     210011A   \n",
       "\n",
       "         LOTE_REF       DOSE_2REF  \\\n",
       "0          FF2592      22/08/2022   \n",
       "1          FM2958      05/07/2022   \n",
       "2         31045BD      11/04/2022   \n",
       "3  Não preenchido  Não preenchido   \n",
       "4      21OVCD324X  Não preenchido   \n",
       "\n",
       "                                       FAB_COVRF2       LOTE_REF2 TRAT_COV  \\\n",
       "0                87 - COVID-19 PFIZER - COMIRNATY         1F1062A      2.0   \n",
       "1  85 - COVID-19 ASTRAZENECA/FIOCRUZ - COVISHIELD      221VCD008Z      9.0   \n",
       "2                87 - COVID-19 PFIZER - COMIRNATY          FN9606      2.0   \n",
       "3                                  Não preenchido  Não preenchido      2.0   \n",
       "4                                  Não preenchido  Não preenchido      9.0   \n",
       "\n",
       "        TIPO_TRAT  \n",
       "0  Não preenchido  \n",
       "1  Não preenchido  \n",
       "2  Não preenchido  \n",
       "3  Não preenchido  \n",
       "4  Não preenchido  \n",
       "\n",
       "[5 rows x 127 columns]"
      ]
     },
     "execution_count": 28,
     "metadata": {},
     "output_type": "execute_result"
    }
   ],
   "source": [
    "df_2024_t.head()"
   ]
  },
  {
   "cell_type": "markdown",
   "metadata": {},
   "source": [
    "# Observações após a exploração dos dados\n",
    "\n",
    "Terminada a etapa de tratamento dos dados onde ocorreram as limpezas iniciais nos datasets, a etapa de exploração foi fundamental para identificar as demais colunas que não possuiam descrição no dicionário de dados e limpar aquelas que não foi possível identificar o que a coluna representava. \n",
    "\n",
    "Com essa etapa finalizada os datasets ficaram bem mais equilibrados, os datasets com os anos de 2022, 2023 e 2024 contendo a mesma quantidade de colunas e o dataset de 2021 com algumas a menos por razões que já foram explicadas previamente: algumas colunas como a referente à 2a dose de reforço não existem por questões do tempo, a 2a dose de reforço ainda não havia sido disponibilizada na época por exemplo."
   ]
  },
  {
   "cell_type": "code",
   "execution_count": 29,
   "metadata": {},
   "outputs": [
    {
     "name": "stdout",
     "output_type": "stream",
     "text": [
      "Shape dataset 2021 tratado: (1731231, 122)\n",
      "Shape dataset 2022 tratado: (557428, 127)\n",
      "Shape dataset 2023 tratado: (278911, 127)\n",
      "Shape dataset 2024 tratado: (161258, 127)\n"
     ]
    }
   ],
   "source": [
    "print(f\"Shape dataset 2021 tratado: {df_2021_t.shape}\")\n",
    "print(f\"Shape dataset 2022 tratado: {df_2022_t.shape}\")\n",
    "print(f\"Shape dataset 2023 tratado: {df_2023_t.shape}\")\n",
    "print(f\"Shape dataset 2024 tratado: {df_2024_t.shape}\")"
   ]
  },
  {
   "cell_type": "markdown",
   "metadata": {},
   "source": [
    "Antes de começar a etapa de analises efetivamente, existe mais um tratamento que achei válido realizar. Muitas das colunas numéricas dos datframes representam respostas para a pergunta, por exemplo no caso a seguir, onde os dados da coluna TP_IDADE possuem a seguinte descrição:\n",
    "\n",
    "1 - Dia (Caso o paciente tenha menos de 30 dias de vida)\n",
    "\n",
    "2 - Mês (Caso o paciente tenha menos de 1 ano de vida)\n",
    "\n",
    "3 - Ano (Caso o paciente tenha a partir de 1 ano de vida) \n",
    "\n",
    "Para facilitar as interpretações dos gráficos serão feitas as devidas alterações"
   ]
  },
  {
   "cell_type": "code",
   "execution_count": 30,
   "metadata": {},
   "outputs": [
    {
     "data": {
      "image/png": "[encoded data removed]",
      "text/plain": [
       "<Figure size 1000x500 with 1 Axes>"
      ]
     },
     "metadata": {},
     "output_type": "display_data"
    }
   ],
   "source": [
    "tipo_idade = df_2021_t['TP_IDADE'].value_counts()\n",
    "plt.figure(figsize=(10, 5))\n",
    "tipo_idade.plot(kind='bar', color='lightgreen')\n",
    "plt.xlabel('Tipo Idade')\n",
    "plt.title('Distribuição de casos por tipo de idade')\n",
    "plt.show()"
   ]
  },
  {
   "cell_type": "markdown",
   "metadata": {},
   "source": [
    "## Atualizando dados"
   ]
  },
  {
   "cell_type": "code",
   "execution_count": 31,
   "metadata": {},
   "outputs": [],
   "source": [
    "nivel_escolaridade = {\n",
    "    1: 'Sem escolaridade / Analfabeto',\n",
    "    2: 'Fundamental 1º ciclo (1ª a 5ª série)',\n",
    "    3: 'Fundamental 2º ciclo (6ª a 9ª série)',\n",
    "    4: 'Superior',\n",
    "    5: 'Não se aplica',\n",
    "    9: 'Ignorado'\n",
    "}\n",
    "\n",
    "df_2021_t['CS_ESCOL_N'] = df_2021_t['CS_ESCOL_N'].replace(nivel_escolaridade)\n",
    "df_2022_t['CS_ESCOL_N'] = df_2022_t['CS_ESCOL_N'].replace(nivel_escolaridade)\n",
    "df_2023_t['CS_ESCOL_N'] = df_2023_t['CS_ESCOL_N'].replace(nivel_escolaridade)\n",
    "df_2024_t['CS_ESCOL_N'] = df_2024_t['CS_ESCOL_N'].replace(nivel_escolaridade)"
   ]
  },
  {
   "cell_type": "code",
   "execution_count": 32,
   "metadata": {},
   "outputs": [
    {
     "data": {
      "text/plain": [
       "array(['Ignorado', 'Não preenchido', 'Sem escolaridade / Analfabeto',\n",
       "       'Não se aplica', 'Superior',\n",
       "       'Fundamental 2º ciclo (6ª a 9ª série)', 0.0,\n",
       "       'Fundamental 1º ciclo (1ª a 5ª série)'], dtype=object)"
      ]
     },
     "execution_count": 32,
     "metadata": {},
     "output_type": "execute_result"
    }
   ],
   "source": [
    "df_2021_t['CS_ESCOL_N'].unique()"
   ]
  },
  {
   "cell_type": "code",
   "execution_count": 33,
   "metadata": {},
   "outputs": [],
   "source": [
    "antiviral = {\n",
    "    1: 'Oseltamivir',\n",
    "    2: 'Zanamivir',\n",
    "    3: 'Outro'\n",
    "}\n",
    "\n",
    "df_2021_t['TP_ANTIVIR'] = df_2021_t['TP_ANTIVIR'].replace(antiviral)\n",
    "df_2022_t['TP_ANTIVIR'] = df_2022_t['TP_ANTIVIR'].replace(antiviral)\n",
    "df_2023_t['TP_ANTIVIR'] = df_2023_t['TP_ANTIVIR'].replace(antiviral)\n",
    "df_2024_t['TP_ANTIVIR'] = df_2024_t['TP_ANTIVIR'].replace(antiviral)"
   ]
  },
  {
   "cell_type": "code",
   "execution_count": 34,
   "metadata": {},
   "outputs": [
    {
     "data": {
      "text/plain": [
       "array(['Não preenchido', 'Outro', 'Oseltamivir', 'Zanamivir'],\n",
       "      dtype=object)"
      ]
     },
     "execution_count": 34,
     "metadata": {},
     "output_type": "execute_result"
    }
   ],
   "source": [
    "df_2021_t['TP_ANTIVIR'].unique()"
   ]
  },
  {
   "cell_type": "code",
   "execution_count": 35,
   "metadata": {},
   "outputs": [],
   "source": [
    "amostra_sorologica = {\n",
    "    1: 'Sangue/plasma/soro',\n",
    "    2: 'Outra',\n",
    "    9: 'Ignorado'\n",
    "}\n",
    "\n",
    "df_2021_t['TP_AM_SOR'] = df_2021_t['TP_AM_SOR'].replace(amostra_sorologica)\n",
    "df_2022_t['TP_AM_SOR'] = df_2022_t['TP_AM_SOR'].replace(amostra_sorologica)\n",
    "df_2023_t['TP_AM_SOR'] = df_2023_t['TP_AM_SOR'].replace(amostra_sorologica)\n",
    "df_2024_t['TP_AM_SOR'] = df_2024_t['TP_AM_SOR'].replace(amostra_sorologica)"
   ]
  },
  {
   "cell_type": "code",
   "execution_count": 36,
   "metadata": {},
   "outputs": [
    {
     "data": {
      "text/plain": [
       "array(['Não preenchido', 'Sangue/plasma/soro', 'Outra', 'Ignorado'],\n",
       "      dtype=object)"
      ]
     },
     "execution_count": 36,
     "metadata": {},
     "output_type": "execute_result"
    }
   ],
   "source": [
    "df_2021_t['TP_AM_SOR'].unique()"
   ]
  },
  {
   "cell_type": "code",
   "execution_count": 37,
   "metadata": {},
   "outputs": [],
   "source": [
    "criterio_confirmacao = {\n",
    "    1: 'Laboratorial',\n",
    "    2: 'Clínico Epidemiológico',\n",
    "    3: 'Clínico',\n",
    "    4: 'Clínico Imagem'\n",
    "}\n",
    "\n",
    "df_2021_t['CRITERIO'] = df_2021_t['CRITERIO'].replace(criterio_confirmacao)\n",
    "df_2022_t['CRITERIO'] = df_2022_t['CRITERIO'].replace(criterio_confirmacao)\n",
    "df_2023_t['CRITERIO'] = df_2023_t['CRITERIO'].replace(criterio_confirmacao)\n",
    "df_2024_t['CRITERIO'] = df_2024_t['CRITERIO'].replace(criterio_confirmacao)"
   ]
  },
  {
   "cell_type": "code",
   "execution_count": 38,
   "metadata": {},
   "outputs": [
    {
     "data": {
      "text/plain": [
       "array(['Laboratorial', 'Não preenchido', 'Clínico Imagem', 'Clínico',\n",
       "       'Clínico Epidemiológico'], dtype=object)"
      ]
     },
     "execution_count": 38,
     "metadata": {},
     "output_type": "execute_result"
    }
   ],
   "source": [
    "df_2021_t['CRITERIO'].unique()"
   ]
  },
  {
   "cell_type": "code",
   "execution_count": 39,
   "metadata": {},
   "outputs": [],
   "source": [
    "idade_gestacional = {\n",
    "    1: '1º Trimestre',\n",
    "    2: '2º Trimestre',\n",
    "    3: '3º Trimestre',\n",
    "    4: 'Idade Gestacional Ignorada',\n",
    "    5: 'Não',\n",
    "    6: 'Não se aplica',\n",
    "    9: 'Ignorado'\n",
    "}\n",
    "\n",
    "df_2021_t['CS_GESTANT'] = df_2021_t['CS_GESTANT'].replace(idade_gestacional)\n",
    "df_2022_t['CS_GESTANT'] = df_2022_t['CS_GESTANT'].replace(idade_gestacional)\n",
    "df_2023_t['CS_GESTANT'] = df_2023_t['CS_GESTANT'].replace(idade_gestacional)\n",
    "df_2024_t['CS_GESTANT'] = df_2024_t['CS_GESTANT'].replace(idade_gestacional)"
   ]
  },
  {
   "cell_type": "code",
   "execution_count": 40,
   "metadata": {},
   "outputs": [
    {
     "data": {
      "text/plain": [
       "array(['Não se aplica', 'Não', '3º Trimestre', 'Ignorado', '1º Trimestre',\n",
       "       '2º Trimestre', 'Idade Gestacional Ignorada', 0], dtype=object)"
      ]
     },
     "execution_count": 40,
     "metadata": {},
     "output_type": "execute_result"
    }
   ],
   "source": [
    "df_2021_t['CS_GESTANT'].unique()"
   ]
  },
  {
   "cell_type": "code",
   "execution_count": 41,
   "metadata": {},
   "outputs": [],
   "source": [
    "cor_raca = {\n",
    "    1: 'Branca',\n",
    "    2: 'Preta',\n",
    "    3: 'Amarela',\n",
    "    4: 'Parda',\n",
    "    5: 'Indígena',\n",
    "    9: 'Ignorado'\n",
    "}\n",
    "\n",
    "df_2021_t['CS_RACA'] = df_2021_t['CS_RACA'].replace(cor_raca)\n",
    "df_2022_t['CS_RACA'] = df_2022_t['CS_RACA'].replace(cor_raca)\n",
    "df_2023_t['CS_RACA'] = df_2023_t['CS_RACA'].replace(cor_raca)\n",
    "df_2024_t['CS_RACA'] = df_2024_t['CS_RACA'].replace(cor_raca)"
   ]
  },
  {
   "cell_type": "code",
   "execution_count": 42,
   "metadata": {},
   "outputs": [
    {
     "data": {
      "text/plain": [
       "array(['Branca', 'Ignorado', 'Preta', 'Parda', 'Amarela', 'Indígena'],\n",
       "      dtype=object)"
      ]
     },
     "execution_count": 42,
     "metadata": {},
     "output_type": "execute_result"
    }
   ],
   "source": [
    "df_2021_t['CS_RACA'].unique()"
   ]
  },
  {
   "cell_type": "code",
   "execution_count": 43,
   "metadata": {},
   "outputs": [],
   "source": [
    "evolucao_caso = {\n",
    "    1: 'Cura',\n",
    "    2: 'Óbito',\n",
    "    3: 'Óbito por outras causas',\n",
    "    9: 'Ignorado'\n",
    "}\n",
    "\n",
    "df_2021_t['EVOLUCAO'] = df_2021_t['EVOLUCAO'].replace(evolucao_caso)\n",
    "df_2022_t['EVOLUCAO'] = df_2022_t['EVOLUCAO'].replace(evolucao_caso)\n",
    "df_2023_t['EVOLUCAO'] = df_2023_t['EVOLUCAO'].replace(evolucao_caso)\n",
    "df_2024_t['EVOLUCAO'] = df_2024_t['EVOLUCAO'].replace(evolucao_caso)"
   ]
  },
  {
   "cell_type": "code",
   "execution_count": 44,
   "metadata": {},
   "outputs": [
    {
     "data": {
      "text/plain": [
       "array(['Óbito', 'Cura', 'Óbito por outras causas', 'Não preenchido',\n",
       "       'Ignorado'], dtype=object)"
      ]
     },
     "execution_count": 44,
     "metadata": {},
     "output_type": "execute_result"
    }
   ],
   "source": [
    "df_2021_t['EVOLUCAO'].unique()"
   ]
  },
  {
   "cell_type": "code",
   "execution_count": 45,
   "metadata": {},
   "outputs": [],
   "source": [
    "resultado_pcr = {\n",
    "    1: 'Detectável',\n",
    "    2: 'Não Detectável',\n",
    "    3: 'Inconclusivo',\n",
    "    4: 'Não Realizado',\n",
    "    5: 'Aguardando Resultado',\n",
    "    9: 'Ignorado'\n",
    "}\n",
    "\n",
    "df_2021_t['PCR_RESUL'] = df_2021_t['PCR_RESUL'].replace(resultado_pcr)\n",
    "df_2022_t['PCR_RESUL'] = df_2022_t['PCR_RESUL'].replace(resultado_pcr)\n",
    "df_2023_t['PCR_RESUL'] = df_2023_t['PCR_RESUL'].replace(resultado_pcr)\n",
    "df_2024_t['PCR_RESUL'] = df_2024_t['PCR_RESUL'].replace(resultado_pcr)"
   ]
  },
  {
   "cell_type": "code",
   "execution_count": 46,
   "metadata": {},
   "outputs": [
    {
     "data": {
      "text/plain": [
       "array(['Não Detectável', 'Aguardando Resultado', 'Detectável',\n",
       "       'Não preenchido', 'Não Realizado', 'Inconclusivo', 'Ignorado'],\n",
       "      dtype=object)"
      ]
     },
     "execution_count": 46,
     "metadata": {},
     "output_type": "execute_result"
    }
   ],
   "source": [
    "df_2021_t['PCR_RESUL'].unique()"
   ]
  },
  {
   "cell_type": "code",
   "execution_count": 47,
   "metadata": {},
   "outputs": [],
   "source": [
    "teste_antigenico = {\n",
    "    1: 'Imunofluorescência (IF)',\n",
    "    2: 'Teste rápido antigênico'\n",
    "}\n",
    "\n",
    "df_2021_t['TP_TES_AN'] = df_2021_t['TP_TES_AN'].replace(teste_antigenico)\n",
    "df_2022_t['TP_TES_AN'] = df_2022_t['TP_TES_AN'].replace(teste_antigenico)\n",
    "df_2023_t['TP_TES_AN'] = df_2023_t['TP_TES_AN'].replace(teste_antigenico)\n",
    "df_2024_t['TP_TES_AN'] = df_2024_t['TP_TES_AN'].replace(teste_antigenico)"
   ]
  },
  {
   "cell_type": "code",
   "execution_count": 48,
   "metadata": {},
   "outputs": [
    {
     "data": {
      "text/plain": [
       "array(['Imunofluorescência (IF)', 'Não preenchido',\n",
       "       'Teste rápido antigênico'], dtype=object)"
      ]
     },
     "execution_count": 48,
     "metadata": {},
     "output_type": "execute_result"
    }
   ],
   "source": [
    "df_2021_t['TP_TES_AN'].unique()"
   ]
  },
  {
   "cell_type": "code",
   "execution_count": 49,
   "metadata": {},
   "outputs": [],
   "source": [
    "tipo_influenza = {\n",
    "    1: 'Influenza A',\n",
    "    2: 'Influenza B'\n",
    "}\n",
    "\n",
    "df_2021_t['TP_FLU_PCR'] = df_2021_t['TP_FLU_PCR'].replace(tipo_influenza)\n",
    "df_2021_t['TP_FLU_AN'] = df_2021_t['TP_FLU_AN'].replace(tipo_influenza)\n",
    "\n",
    "df_2022_t['TP_FLU_PCR'] = df_2022_t['TP_FLU_PCR'].replace(tipo_influenza)\n",
    "df_2022_t['TP_FLU_AN'] = df_2022_t['TP_FLU_AN'].replace(tipo_influenza)\n",
    "\n",
    "df_2023_t['TP_FLU_PCR'] = df_2023_t['TP_FLU_PCR'].replace(tipo_influenza)\n",
    "df_2023_t['TP_FLU_AN'] = df_2023_t['TP_FLU_AN'].replace(tipo_influenza)\n",
    "\n",
    "df_2024_t['TP_FLU_PCR'] = df_2024_t['TP_FLU_PCR'].replace(tipo_influenza)\n",
    "df_2024_t['TP_FLU_AN'] = df_2024_t['TP_FLU_AN'].replace(tipo_influenza)"
   ]
  },
  {
   "cell_type": "code",
   "execution_count": 50,
   "metadata": {},
   "outputs": [
    {
     "data": {
      "text/plain": [
       "array(['Não preenchido', 'Influenza A', 'Influenza B'], dtype=object)"
      ]
     },
     "execution_count": 50,
     "metadata": {},
     "output_type": "execute_result"
    }
   ],
   "source": [
    "df_2021_t['TP_FLU_PCR'].unique()"
   ]
  },
  {
   "cell_type": "code",
   "execution_count": 51,
   "metadata": {},
   "outputs": [
    {
     "data": {
      "text/plain": [
       "array(['Não preenchido', 'Influenza B', 'Influenza A'], dtype=object)"
      ]
     },
     "execution_count": 51,
     "metadata": {},
     "output_type": "execute_result"
    }
   ],
   "source": [
    "df_2021_t['TP_FLU_AN'].unique()"
   ]
  },
  {
   "cell_type": "code",
   "execution_count": 52,
   "metadata": {},
   "outputs": [],
   "source": [
    "subtipo_influenza_A = {\n",
    "    1: 'Influenza A (H1N1)pdm09',\n",
    "    2: 'Influenza A (H3N2)',\n",
    "    3: 'Influenza A não subtipado',\n",
    "    4: 'Influenza A não subtipável',\n",
    "    5: 'Inconclusivo',\n",
    "    6: 'Outro'\n",
    "}\n",
    "\n",
    "df_2021_t['PCR_FLUASU'] = df_2021_t['PCR_FLUASU'].replace(subtipo_influenza_A)\n",
    "df_2022_t['PCR_FLUASU'] = df_2022_t['PCR_FLUASU'].replace(subtipo_influenza_A)\n",
    "df_2023_t['PCR_FLUASU'] = df_2023_t['PCR_FLUASU'].replace(subtipo_influenza_A)\n",
    "df_2024_t['PCR_FLUASU'] = df_2024_t['PCR_FLUASU'].replace(subtipo_influenza_A)"
   ]
  },
  {
   "cell_type": "code",
   "execution_count": 53,
   "metadata": {},
   "outputs": [
    {
     "data": {
      "text/plain": [
       "array(['Não preenchido', 'Influenza A não subtipado', 'Outro',\n",
       "       'Influenza A (H3N2)', 'Influenza A não subtipável',\n",
       "       'Influenza A (H1N1)pdm09', 'Inconclusivo'], dtype=object)"
      ]
     },
     "execution_count": 53,
     "metadata": {},
     "output_type": "execute_result"
    }
   ],
   "source": [
    "df_2021_t['PCR_FLUASU'].unique()"
   ]
  },
  {
   "cell_type": "code",
   "execution_count": 54,
   "metadata": {},
   "outputs": [],
   "source": [
    "sexo = {\n",
    "    1: 'Masculino',\n",
    "    2: 'Feminino',\n",
    "    9: 'Ignorado'\n",
    "}\n",
    "\n",
    "df_2021_t['CS_SEXO'] = df_2021_t['CS_SEXO'].replace(sexo)\n",
    "df_2022_t['CS_SEXO'] = df_2022_t['CS_SEXO'].replace(sexo)\n",
    "df_2023_t['CS_SEXO'] = df_2023_t['CS_SEXO'].replace(sexo)\n",
    "df_2024_t['CS_SEXO'] = df_2024_t['CS_SEXO'].replace(sexo)"
   ]
  },
  {
   "cell_type": "code",
   "execution_count": 55,
   "metadata": {},
   "outputs": [
    {
     "data": {
      "text/plain": [
       "array(['M', 'F', 'I'], dtype=object)"
      ]
     },
     "execution_count": 55,
     "metadata": {},
     "output_type": "execute_result"
    }
   ],
   "source": [
    "df_2021_t['CS_SEXO'].unique()"
   ]
  },
  {
   "cell_type": "code",
   "execution_count": 56,
   "metadata": {},
   "outputs": [],
   "source": [
    "tipo_tratamento = {\n",
    "    1: 'Nirmatrevir/ritonavir(Paxlovid ®)',\n",
    "    2: 'Molnupiravir(Lagevrio®)',\n",
    "    3: 'Baricitinibe (Olumiant®)',\n",
    "    4: 'Outro'\n",
    "}\n",
    "\n",
    "df_2022_t['TIPO_TRAT'] = df_2022_t['TIPO_TRAT'].replace(tipo_tratamento)\n",
    "df_2023_t['TIPO_TRAT'] = df_2023_t['TIPO_TRAT'].replace(tipo_tratamento)\n",
    "df_2024_t['TIPO_TRAT'] = df_2024_t['TIPO_TRAT'].replace(tipo_tratamento)"
   ]
  },
  {
   "cell_type": "code",
   "execution_count": 57,
   "metadata": {},
   "outputs": [
    {
     "data": {
      "text/plain": [
       "array(['Não preenchido', 'Baricitinibe (Olumiant®)',\n",
       "       'Molnupiravir(Lagevrio®)', 'Nirmatrevir/ritonavir(Paxlovid ®)'],\n",
       "      dtype=object)"
      ]
     },
     "execution_count": 57,
     "metadata": {},
     "output_type": "execute_result"
    }
   ],
   "source": [
    "df_2022_t['TIPO_TRAT'].unique()"
   ]
  },
  {
   "cell_type": "code",
   "execution_count": 58,
   "metadata": {},
   "outputs": [],
   "source": [
    "resultado_raiox = {\n",
    "    1: 'Normal',\n",
    "    2: 'Infiltrado intersticial',\n",
    "    3: 'Consolidação',\n",
    "    4: 'Misto',\n",
    "    5: 'Outro',\n",
    "    6: 'Não realizado',\n",
    "    9: 'Ignorado'\n",
    "}\n",
    "\n",
    "df_2021_t['RAIOX_RES'] = df_2021_t['RAIOX_RES'].replace(resultado_raiox)\n",
    "df_2022_t['RAIOX_RES'] = df_2022_t['RAIOX_RES'].replace(resultado_raiox)\n",
    "df_2023_t['RAIOX_RES'] = df_2023_t['RAIOX_RES'].replace(resultado_raiox)\n",
    "df_2024_t['RAIOX_RES'] = df_2024_t['RAIOX_RES'].replace(resultado_raiox)"
   ]
  },
  {
   "cell_type": "code",
   "execution_count": 59,
   "metadata": {},
   "outputs": [
    {
     "data": {
      "text/plain": [
       "array(['Não preenchido', 'Não realizado', 'Ignorado',\n",
       "       'Infiltrado intersticial', 'Misto', 'Normal', 'Consolidação',\n",
       "       'Outro'], dtype=object)"
      ]
     },
     "execution_count": 59,
     "metadata": {},
     "output_type": "execute_result"
    }
   ],
   "source": [
    "df_2021_t['RAIOX_RES'].unique()"
   ]
  },
  {
   "cell_type": "code",
   "execution_count": 60,
   "metadata": {},
   "outputs": [],
   "source": [
    "resultado_teste_antigenico = {\n",
    "    1: 'Positivo',\n",
    "    2: 'Negativo',\n",
    "    3: 'Inconclusivo',\n",
    "    4: 'Não realizado',\n",
    "    5: 'Aguardando resultado',\n",
    "    9: 'Ignorado'\n",
    "}\n",
    "\n",
    "df_2021_t['RES_AN'] = df_2021_t['RES_AN'].replace(resultado_teste_antigenico)\n",
    "df_2022_t['RES_AN'] = df_2022_t['RES_AN'].replace(resultado_teste_antigenico)\n",
    "df_2023_t['RES_AN'] = df_2023_t['RES_AN'].replace(resultado_teste_antigenico)\n",
    "df_2024_t['RES_AN'] = df_2024_t['RES_AN'].replace(resultado_teste_antigenico)"
   ]
  },
  {
   "cell_type": "code",
   "execution_count": 61,
   "metadata": {},
   "outputs": [
    {
     "data": {
      "text/plain": [
       "array(['Não realizado', 'Aguardando resultado', 'Não preenchido',\n",
       "       'Positivo', 'Negativo', 'Ignorado', 'Inconclusivo'], dtype=object)"
      ]
     },
     "execution_count": 61,
     "metadata": {},
     "output_type": "execute_result"
    }
   ],
   "source": [
    "df_2021_t['RES_AN'].unique()"
   ]
  },
  {
   "cell_type": "code",
   "execution_count": 62,
   "metadata": {},
   "outputs": [],
   "source": [
    "tipo_amostra = {\n",
    "    1: 'Secreção de Nasoorofaringe',\n",
    "    2: 'Lavado Broco-alveolar',\n",
    "    3: 'Tecido post-mortem',\n",
    "    4: 'Outra',\n",
    "    5: 'LCR',\n",
    "    9: 'Ignorado'\n",
    "}\n",
    "\n",
    "df_2021_t['TP_AMOSTRA'] = df_2021_t['TP_AMOSTRA'].replace(tipo_amostra)\n",
    "df_2022_t['TP_AMOSTRA'] = df_2022_t['TP_AMOSTRA'].replace(tipo_amostra)\n",
    "df_2023_t['TP_AMOSTRA'] = df_2023_t['TP_AMOSTRA'].replace(tipo_amostra)\n",
    "df_2024_t['TP_AMOSTRA'] = df_2024_t['TP_AMOSTRA'].replace(tipo_amostra)"
   ]
  },
  {
   "cell_type": "code",
   "execution_count": 63,
   "metadata": {},
   "outputs": [
    {
     "data": {
      "text/plain": [
       "array(['Secreção de Nasoorofaringe', 'Não preenchido', 'Outra',\n",
       "       'Lavado Broco-alveolar', 'Ignorado', 'Tecido post-mortem', 'LCR'],\n",
       "      dtype=object)"
      ]
     },
     "execution_count": 63,
     "metadata": {},
     "output_type": "execute_result"
    }
   ],
   "source": [
    "df_2021_t['TP_AMOSTRA'].unique()"
   ]
  },
  {
   "cell_type": "code",
   "execution_count": 64,
   "metadata": {},
   "outputs": [],
   "source": [
    "colunas = ['NOSOCOMIAL', 'AVE_SUINO', 'FEBRE', 'TOSSE', 'GARGANTA', 'DISPNEIA', 'DESC_RESP', 'SATURACAO', 'DIARREIA', 'VOMITO', 'OUTRO_SIN', 'PUERPERA', \n",
    "           'FATOR_RISC', 'CARDIOPATI', 'HEMATOLOGI', 'SIND_DOWN', 'HEPATICA', 'ASMA', 'DIABETES', 'NEUROLOGIC', 'PNEUMOPATI', 'IMUNODEPRE', 'RENAL', 'OBESIDADE', \n",
    "           'OUT_MORBI', 'VACINA', 'MAE_VAC', 'M_AMAMENTA', 'ANTIVIRAL', 'HOSPITAL', 'UTI', 'AMOSTRA', 'POS_PCRFLU', 'POS_PCROUT', 'HISTO_VGM', 'DOR_ABD', 'FADIGA',\n",
    "           'PERD_OLFT', 'PERD_PALA', 'POS_AN_FLU', 'POS_AN_OUT', 'VACINA_COV', 'TRAT_COV']\n",
    "\n",
    "sim_nao = {\n",
    "    1: 'Sim',\n",
    "    2: 'Não',\n",
    "    9: 'Ignorado',\n",
    "    3: 'Não preenchido', # esses dois ultimos casos nao batem com a descricao das colunas, entao serao considerados cono nan\n",
    "    0: 'Não preenchido'\n",
    "}"
   ]
  },
  {
   "cell_type": "code",
   "execution_count": 65,
   "metadata": {},
   "outputs": [
    {
     "name": "stdout",
     "output_type": "stream",
     "text": [
      "['Não preenchido' 'Não' 'Ignorado' 'Sim']\n",
      "['Ignorado' 'Não preenchido' 'Não' 'Sim']\n",
      "['Não' 'Não preenchido' 'Sim' 'Ignorado']\n",
      "['Não' 'Não preenchido' 'Sim' 'Ignorado']\n",
      "['Não' 'Não preenchido' 'Sim' 'Ignorado']\n",
      "['Sim' 'Não' 'Não preenchido' 'Ignorado']\n",
      "['Não' 'Sim' 'Não preenchido' 'Ignorado']\n",
      "['Não' 'Sim' 'Não preenchido' 'Ignorado']\n",
      "['Não' 'Não preenchido' 'Sim' 'Ignorado']\n",
      "['Não' 'Não preenchido' 'Sim' 'Ignorado']\n",
      "['Não preenchido' 'Não' 'Sim' 'Ignorado']\n",
      "['Não preenchido' 'Não' 'Ignorado' 'Sim']\n",
      "['Não' 'Sim']\n",
      "['Não preenchido' 'Não' 'Sim' 'Ignorado']\n",
      "['Não preenchido' 'Não' 'Sim' 'Ignorado']\n",
      "['Não preenchido' 'Não' 'Sim' 'Ignorado']\n",
      "['Não preenchido' 'Não' 'Sim' 'Ignorado']\n",
      "['Não preenchido' 'Não' 'Sim' 'Ignorado']\n",
      "['Não preenchido' 'Não' 'Sim' 'Ignorado']\n",
      "['Não preenchido' 'Não' 'Sim' 'Ignorado']\n",
      "['Não preenchido' 'Não' 'Sim' 'Ignorado']\n",
      "['Não preenchido' 'Não' 'Ignorado' 'Sim']\n",
      "['Não preenchido' 'Sim' 'Não' 'Ignorado']\n",
      "['Não preenchido' 'Sim' 'Não' 'Ignorado']\n",
      "['Não preenchido' 'Sim' 'Não' 'Ignorado']\n",
      "['Ignorado' 'Não preenchido' 'Não' 'Sim']\n",
      "['Não preenchido' 'Ignorado' 'Não' 'Sim']\n",
      "['Não preenchido' 'Ignorado' 'Sim' 'Não']\n",
      "['Ignorado' 'Não preenchido' 'Não' 'Sim']\n",
      "['Sim' 'Não preenchido' 'Não' 'Ignorado']\n",
      "['Sim' 'Não' 'Não preenchido' 'Ignorado']\n",
      "['Sim' 'Não preenchido' 'Ignorado' 'Não']\n",
      "['Não preenchido' 'Não' 'Ignorado' 'Sim']\n",
      "['Não preenchido' 'Sim' 'Não' 'Ignorado']\n",
      "['Não preenchido' 'Não' 'Ignorado' 'Sim']\n",
      "['Não' 'Não preenchido' 'Sim' 'Ignorado']\n",
      "['Não' 'Não preenchido' 'Sim' 'Ignorado']\n",
      "['Não' 'Não preenchido' 'Ignorado' 'Sim']\n",
      "['Não' 'Não preenchido' 'Ignorado' 'Sim']\n",
      "['Não preenchido' 'Não' 'Sim' 'Ignorado']\n",
      "['Não preenchido' 'Sim' 'Não' 'Ignorado']\n",
      "['Não preenchido' 'Sim' 'Não' 'Ignorado']\n"
     ]
    }
   ],
   "source": [
    "for coluna in colunas:\n",
    "    if coluna in df_2021_t.columns:\n",
    "        df_2021_t[coluna] = df_2021_t[coluna].replace(sim_nao)\n",
    "        print(df_2021_t[coluna].unique())"
   ]
  },
  {
   "cell_type": "code",
   "execution_count": 66,
   "metadata": {},
   "outputs": [],
   "source": [
    "for coluna in colunas:\n",
    "    if coluna in df_2022_t.columns:\n",
    "        df_2022_t[coluna] = df_2022_t[coluna].replace(sim_nao)"
   ]
  },
  {
   "cell_type": "code",
   "execution_count": 67,
   "metadata": {},
   "outputs": [],
   "source": [
    "for coluna in colunas:\n",
    "    if coluna in df_2023_t.columns:\n",
    "        df_2023_t[coluna] = df_2023_t[coluna].replace(sim_nao)"
   ]
  },
  {
   "cell_type": "code",
   "execution_count": 68,
   "metadata": {},
   "outputs": [],
   "source": [
    "for coluna in colunas:\n",
    "    if coluna in df_2024_t.columns:\n",
    "        df_2024_t[coluna] = df_2024_t[coluna].replace(sim_nao)"
   ]
  },
  {
   "cell_type": "code",
   "execution_count": 69,
   "metadata": {},
   "outputs": [],
   "source": [
    "suporte_ventilatorio = {\n",
    "    1: 'Sim, invasivo',\n",
    "    2: 'Sim, não invasivo',\n",
    "    3: 'Não',\n",
    "    9: 'Ignorado'\n",
    "}\n",
    "\n",
    "df_2021_t['SUPORT_VEN'] = df_2021_t['SUPORT_VEN'].replace(suporte_ventilatorio)\n",
    "df_2022_t['SUPORT_VEN'] = df_2022_t['SUPORT_VEN'].replace(suporte_ventilatorio)\n",
    "df_2023_t['SUPORT_VEN'] = df_2023_t['SUPORT_VEN'].replace(suporte_ventilatorio)\n",
    "df_2024_t['SUPORT_VEN'] = df_2024_t['SUPORT_VEN'].replace(suporte_ventilatorio)"
   ]
  },
  {
   "cell_type": "code",
   "execution_count": 70,
   "metadata": {},
   "outputs": [
    {
     "data": {
      "text/plain": [
       "array(['Ignorado', 'Não preenchido', 'Sim, não invasivo', 'Sim, invasivo',\n",
       "       'Não'], dtype=object)"
      ]
     },
     "execution_count": 70,
     "metadata": {},
     "output_type": "execute_result"
    }
   ],
   "source": [
    "df_2021_t['SUPORT_VEN'].unique()"
   ]
  },
  {
   "cell_type": "code",
   "execution_count": 71,
   "metadata": {},
   "outputs": [],
   "source": [
    "diagnostico_final = {\n",
    "    1: 'SRAG por influenza',\n",
    "    2: 'SRAG por outro vírus respiratório',\n",
    "    3: 'SRAG por outro agente etiológico',\n",
    "    4: 'SRAG não especificado',\n",
    "    5: 'SRAG por covid-19'\n",
    "}\n",
    "\n",
    "df_2021_t['CLASSI_FIN'] = df_2021_t['CLASSI_FIN'].replace(diagnostico_final)\n",
    "df_2022_t['CLASSI_FIN'] = df_2022_t['CLASSI_FIN'].replace(diagnostico_final)\n",
    "df_2023_t['CLASSI_FIN'] = df_2023_t['CLASSI_FIN'].replace(diagnostico_final)\n",
    "df_2024_t['CLASSI_FIN'] = df_2024_t['CLASSI_FIN'].replace(diagnostico_final)"
   ]
  },
  {
   "cell_type": "code",
   "execution_count": 72,
   "metadata": {},
   "outputs": [
    {
     "data": {
      "text/plain": [
       "array(['SRAG por outro agente etiológico', 'SRAG por covid-19',\n",
       "       'SRAG não especificado', 'Não preenchido', 'SRAG por influenza',\n",
       "       'SRAG por outro vírus respiratório'], dtype=object)"
      ]
     },
     "execution_count": 72,
     "metadata": {},
     "output_type": "execute_result"
    }
   ],
   "source": [
    "df_2021_t['CLASSI_FIN'].unique()"
   ]
  },
  {
   "cell_type": "code",
   "execution_count": 73,
   "metadata": {},
   "outputs": [],
   "source": [
    "teste_sorologico = {\n",
    "    1: 'Teste rápido',\n",
    "    2: 'Elisa',\n",
    "    3: 'Quimiluminescência',\n",
    "    4: 'Outro'\n",
    "}\n",
    "\n",
    "df_2021_t['TP_SOR'] = df_2021_t['TP_SOR'].replace(teste_sorologico)\n",
    "df_2022_t['TP_SOR'] = df_2022_t['TP_SOR'].replace(teste_sorologico)\n",
    "df_2023_t['TP_SOR'] = df_2023_t['TP_SOR'].replace(teste_sorologico)\n",
    "df_2024_t['TP_SOR'] = df_2024_t['TP_SOR'].replace(teste_sorologico)"
   ]
  },
  {
   "cell_type": "code",
   "execution_count": 74,
   "metadata": {},
   "outputs": [
    {
     "data": {
      "text/plain": [
       "array(['Não preenchido', 'Teste rápido', 'Outro', 'Elisa',\n",
       "       'Quimiluminescência'], dtype=object)"
      ]
     },
     "execution_count": 74,
     "metadata": {},
     "output_type": "execute_result"
    }
   ],
   "source": [
    "df_2021_t['TP_SOR'].unique()"
   ]
  },
  {
   "cell_type": "code",
   "execution_count": 75,
   "metadata": {},
   "outputs": [],
   "source": [
    "resultado_tomografia = {\n",
    "    1: 'Tipico covid-19',\n",
    "    2: 'Indeterminado covid-19',\n",
    "    3: 'Atípico covid-19',\n",
    "    4: 'Negativo para Pneumonia',\n",
    "    5: 'Outro',\n",
    "    6: 'Não realizado',\n",
    "    9: 'Ignorado'\n",
    "}\n",
    "\n",
    "df_2021_t['TOMO_RES'] = df_2021_t['TOMO_RES'].replace(resultado_tomografia)\n",
    "df_2022_t['TOMO_RES'] = df_2022_t['TOMO_RES'].replace(resultado_tomografia)\n",
    "df_2023_t['TOMO_RES'] = df_2023_t['TOMO_RES'].replace(resultado_tomografia)\n",
    "df_2024_t['TOMO_RES'] = df_2024_t['TOMO_RES'].replace(resultado_tomografia)"
   ]
  },
  {
   "cell_type": "code",
   "execution_count": 76,
   "metadata": {},
   "outputs": [
    {
     "data": {
      "text/plain": [
       "array(['Ignorado', 'Tipico covid-19', 'Não preenchido', 'Não realizado',\n",
       "       'Atípico covid-19', 'Outro', 'Negativo para Pneumonia',\n",
       "       'Indeterminado covid-19'], dtype=object)"
      ]
     },
     "execution_count": 76,
     "metadata": {},
     "output_type": "execute_result"
    }
   ],
   "source": [
    "df_2021_t['TOMO_RES'].unique()"
   ]
  },
  {
   "cell_type": "code",
   "execution_count": 77,
   "metadata": {},
   "outputs": [],
   "source": [
    "zona = {\n",
    "    1: 'Urbana',\n",
    "    2: 'Rural',\n",
    "    3: 'Periurbana',\n",
    "    9: 'Ignorado'\n",
    "}\n",
    "\n",
    "df_2021_t['CS_ZONA'] = df_2021_t['CS_ZONA'].replace(zona)\n",
    "df_2022_t['CS_ZONA'] = df_2022_t['CS_ZONA'].replace(zona)\n",
    "df_2023_t['CS_ZONA'] = df_2023_t['CS_ZONA'].replace(zona)\n",
    "df_2024_t['CS_ZONA'] = df_2024_t['CS_ZONA'].replace(zona)"
   ]
  },
  {
   "cell_type": "code",
   "execution_count": 78,
   "metadata": {},
   "outputs": [
    {
     "data": {
      "text/plain": [
       "array(['Urbana', 'Não preenchido', 'Periurbana', 'Rural', 'Ignorado'],\n",
       "      dtype=object)"
      ]
     },
     "execution_count": 78,
     "metadata": {},
     "output_type": "execute_result"
    }
   ],
   "source": [
    "df_2021_t['CS_ZONA'].unique()"
   ]
  },
  {
   "cell_type": "code",
   "execution_count": 79,
   "metadata": {},
   "outputs": [],
   "source": [
    "linhagem_influenza_B = {\n",
    "    1: 'Victoria',\n",
    "    2: 'Yamagatha',\n",
    "    3: 'Não realizado',\n",
    "    4: 'Inconclusivo',\n",
    "    5: 'Outro'\n",
    "}\n",
    "\n",
    "df_2021_t['PCR_FLUBLI'] = df_2021_t['PCR_FLUBLI'].replace(linhagem_influenza_B)\n",
    "df_2022_t['PCR_FLUBLI'] = df_2022_t['PCR_FLUBLI'].replace(linhagem_influenza_B)\n",
    "df_2023_t['PCR_FLUBLI'] = df_2023_t['PCR_FLUBLI'].replace(linhagem_influenza_B)\n",
    "df_2024_t['PCR_FLUBLI'] = df_2024_t['PCR_FLUBLI'].replace(linhagem_influenza_B)"
   ]
  },
  {
   "cell_type": "code",
   "execution_count": 80,
   "metadata": {},
   "outputs": [
    {
     "data": {
      "text/plain": [
       "array(['Não preenchido', 'Não realizado', 'Inconclusivo', 'Yamagatha',\n",
       "       'Outro'], dtype=object)"
      ]
     },
     "execution_count": 80,
     "metadata": {},
     "output_type": "execute_result"
    }
   ],
   "source": [
    "df_2021_t['PCR_FLUBLI'].unique()"
   ]
  },
  {
   "cell_type": "code",
   "execution_count": 81,
   "metadata": {},
   "outputs": [],
   "source": [
    "idade = {\n",
    "    1: 'Dia',\n",
    "    2: 'Mês',\n",
    "    3: 'Ano'\n",
    "}\n",
    "\n",
    "df_2021_t['TP_IDADE'] = df_2021_t['TP_IDADE'].replace(idade)\n",
    "df_2022_t['TP_IDADE'] = df_2022_t['TP_IDADE'].replace(idade)\n",
    "df_2023_t['TP_IDADE'] = df_2023_t['TP_IDADE'].replace(idade)\n",
    "df_2024_t['TP_IDADE'] = df_2024_t['TP_IDADE'].replace(idade)"
   ]
  },
  {
   "cell_type": "code",
   "execution_count": 82,
   "metadata": {},
   "outputs": [
    {
     "data": {
      "text/plain": [
       "array(['Ano', 'Mês', 'Dia'], dtype=object)"
      ]
     },
     "execution_count": 82,
     "metadata": {},
     "output_type": "execute_result"
    }
   ],
   "source": [
    "df_2021_t['TP_IDADE'].unique()"
   ]
  },
  {
   "cell_type": "markdown",
   "metadata": {},
   "source": [
    "## Viualização dos dados após atualização"
   ]
  },
  {
   "cell_type": "code",
   "execution_count": 83,
   "metadata": {},
   "outputs": [
    {
     "data": {
      "image/png": "[encoded data removed]",
      "text/plain": [
       "<Figure size 1000x500 with 1 Axes>"
      ]
     },
     "metadata": {},
     "output_type": "display_data"
    }
   ],
   "source": [
    "tipo_idade = df_2021_t['TP_IDADE'].value_counts()\n",
    "plt.figure(figsize=(10, 5))\n",
    "tipo_idade.plot(kind='bar', color='lightgreen')\n",
    "plt.xlabel('Tipo Idade')\n",
    "plt.title('Distribuição de casos por tipo de idade')\n",
    "plt.show()"
   ]
  },
  {
   "cell_type": "markdown",
   "metadata": {},
   "source": [
    "# Gráficos e análises"
   ]
  },
  {
   "cell_type": "markdown",
   "metadata": {},
   "source": [
    "## Comparativo entre Semana Epidemiológica do início dos sintomas e Semana Epidemiológica do preenchimento da ficha de notificação"
   ]
  },
  {
   "cell_type": "code",
   "execution_count": 95,
   "metadata": {},
   "outputs": [
    {
     "data": {
      "image/png": "[encoded data removed]",
      "text/plain": [
       "<Figure size 1000x500 with 1 Axes>"
      ]
     },
     "metadata": {},
     "output_type": "display_data"
    },
    {
     "name": "stdout",
     "output_type": "stream",
     "text": [
      "Em 2021, a média de atraso entre o início dos sintomas e a notificação é de 0.7959983387543315 semanas.\n"
     ]
    },
    {
     "data": {
      "image/png": "[encoded data removed]",
      "text/plain": [
       "<Figure size 1000x500 with 1 Axes>"
      ]
     },
     "metadata": {},
     "output_type": "display_data"
    },
    {
     "name": "stdout",
     "output_type": "stream",
     "text": [
      "Em 2022, a média de atraso entre o início dos sintomas e a notificação é de 0.5312470848253048 semanas.\n"
     ]
    },
    {
     "data": {
      "image/png": "[encoded data removed]",
      "text/plain": [
       "<Figure size 1000x500 with 1 Axes>"
      ]
     },
     "metadata": {},
     "output_type": "display_data"
    },
    {
     "name": "stdout",
     "output_type": "stream",
     "text": [
      "Em 2023, a média de atraso entre o início dos sintomas e a notificação é de 0.4481286145042684 semanas.\n"
     ]
    },
    {
     "data": {
      "image/png": "[encoded data removed]",
      "text/plain": [
       "<Figure size 1000x500 with 1 Axes>"
      ]
     },
     "metadata": {},
     "output_type": "display_data"
    },
    {
     "name": "stdout",
     "output_type": "stream",
     "text": [
      "Em 2024, a média de atraso entre o início dos sintomas e a notificação é de 0.9206923067382703 semanas.\n"
     ]
    }
   ],
   "source": [
    "anos = ['2021', '2022', '2023', '2024']\n",
    "\n",
    "for ano in anos:\n",
    "    df = globals()[f'df_{ano}_t']\n",
    "    \n",
    "    # Calcula a contagem de casos por semana epidemiológica\n",
    "    semana_sintomas = df['SEM_PRI'].value_counts().sort_index()\n",
    "    semana_ficha = df['SEM_NOT'].value_counts().sort_index()\n",
    "\n",
    "    # Criação do gráfico\n",
    "    plt.figure(figsize=(10, 5))\n",
    "    plt.plot(semana_sintomas.index, semana_sintomas.values, label='Início dos Sintomas', color='red', marker='o')\n",
    "    plt.plot(semana_ficha.index, semana_ficha.values, label='Data da Ficha', color='blue', marker='o')\n",
    "\n",
    "    plt.xlabel('Semana Epidemiológica')\n",
    "    plt.ylabel('Número de Casos')\n",
    "    plt.title(f'Comparação entre Semana de Início dos Sintomas e Semana de Notificação - {ano}')\n",
    "    plt.legend()\n",
    "    plt.grid(True)\n",
    "    plt.tight_layout()  # Ajusta o layout para evitar cortes\n",
    "    plt.show()\n",
    "\n",
    "    df['diferença_semanas'] = df['SEM_NOT'] - df['SEM_PRI']\n",
    "    media_diferenca = df['diferença_semanas'].mean()\n",
    "    print(f\"Em {ano}, a média de atraso entre o início dos sintomas e a notificação é de {media_diferenca} semanas.\")"
   ]
  },
  {
   "cell_type": "markdown",
   "metadata": {},
   "source": [
    "Com esses gráficos a ideia é analisar se as pessoas demoraram a buscar auxilio médico, podemos perceber que a linha azul (preenchimento da ficha) está deslocada para a direita quando comparada com a linha vermelha (primeiros sintomas), indicando que existe sim esse atraso.\n",
    "\n",
    "Um ponto interessante também para se analisar é a respeito dos números de casos (eixo y), o gráfico de 2021 possui um número de casos acima de 70.000 e o de 2022 possui casos acima de 35.000. Além disso, calculei a média de atraso entre o início dos sintomas e a ficha de notificação e foi possível observar que essas médias foram menores nos anos de 2022 e 2023 o que possivelmente foi causado por uma maior conscientização da população"
   ]
  }
 ],
 "metadata": {
  "kernelspec": {
   "display_name": "Python 3",
   "language": "python",
   "name": "python3"
  },
  "language_info": {
   "codemirror_mode": {
    "name": "ipython",
    "version": 3
   },
   "file_extension": ".py",
   "mimetype": "text/x-python",
   "name": "python",
   "nbconvert_exporter": "python",
   "pygments_lexer": "ipython3",
   "version": "3.12.2"
  }
 },
 "nbformat": 4,
 "nbformat_minor": 2
}
